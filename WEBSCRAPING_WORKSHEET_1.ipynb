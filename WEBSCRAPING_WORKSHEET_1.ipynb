{
 "cells": [
  {
   "cell_type": "markdown",
   "metadata": {},
   "source": [
    "# 14. check whether a webpage contains a title or not."
   ]
  },
  {
   "cell_type": "code",
   "execution_count": 36,
   "metadata": {},
   "outputs": [
    {
     "name": "stdout",
     "output_type": "stream",
     "text": [
      "Online Shopping Site for Mobiles, Electronics, Furniture, Grocery, Lifestyle, Books & More. Best Offers!\n"
     ]
    }
   ],
   "source": [
    "# importing webdriver from selenium \n",
    "from selenium import webdriver \n",
    "\n",
    "def getTitle(url):\n",
    "    # Here Chrome  will be used \n",
    "    driver = webdriver.Chrome() \n",
    "\n",
    "    # Opening the website \n",
    "    driver.get(url) \n",
    "\n",
    "    # Getting current URL source code \n",
    "    get_title = driver.title \n",
    "    return get_title\n",
    "\n",
    "    title = getTitle(url)\n",
    "    if title == None:\n",
    "        return \"Title could not be found\"\n",
    "    else:\n",
    "        return title\n",
    "  \n",
    "# Printing the title of this URL \n",
    "print(getTitle(\"https://www.flipkart.com/\"))"
   ]
  },
  {
   "cell_type": "markdown",
   "metadata": {},
   "source": [
    "# 15.  access the search bar and search button on images.google.com."
   ]
  },
  {
   "cell_type": "code",
   "execution_count": 42,
   "metadata": {},
   "outputs": [
    {
     "name": "stdout",
     "output_type": "stream",
     "text": [
      "<selenium.webdriver.remote.webelement.WebElement (session=\"b9f4ae902ea5346bd45481674d06d3e3\", element=\"4be9e362-adf9-44a9-be7c-e2df95d14e20\")>\n"
     ]
    }
   ],
   "source": [
    "# Creating an instance of google chrome\n",
    "DRIVER_PATH = 'chromedriver.exe'\n",
    "\n",
    "# TO run Chrome in a headfull mode(li.ke regular chrome)\n",
    "driver = webdriver.Chrome (executable_path= DRIVER_PATH)\n",
    "current_page_url = driver.get('https://www.google.com/imghp?hl=EN')\n",
    "\n",
    "search_bar = driver.find_element_by_xpath (\"//div[@class='pR49Ae gsfi']\")\n",
    "print(search_bar)\n",
    "\n",
    "search_button = driver.find_element_by_xpath (\"//div[@class='FAuhyb']//span\").get_attribute('innerHTML')\n",
    "print(search_button)\n"
   ]
  }
 ],
 "metadata": {
  "kernelspec": {
   "display_name": "Python 3",
   "language": "python",
   "name": "python3"
  },
  "language_info": {
   "codemirror_mode": {
    "name": "ipython",
    "version": 3
   },
   "file_extension": ".py",
   "mimetype": "text/x-python",
   "name": "python",
   "nbconvert_exporter": "python",
   "pygments_lexer": "ipython3",
   "version": "3.7.3"
  }
 },
 "nbformat": 4,
 "nbformat_minor": 2
}
