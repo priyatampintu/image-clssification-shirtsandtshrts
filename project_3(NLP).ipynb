{
 "cells": [
  {
   "cell_type": "code",
   "execution_count": 59,
   "metadata": {},
   "outputs": [],
   "source": [
    "import requests\n",
    "from bs4 import BeautifulSoup\n",
    "import pandas as pd\n",
    "import numpy as np\n",
    "import matplotlib.pyplot as plt\n",
    "import seaborn as sns\n",
    "import os\n",
    "\n",
    "%matplotlib inline"
   ]
  },
  {
   "cell_type": "code",
   "execution_count": 60,
   "metadata": {},
   "outputs": [],
   "source": [
    "import urllib.request\n",
    "import requests\n",
    "import nltk\n",
    "import os.path\n",
    "import numpy as np\n",
    "import pandas as pd\n",
    "import nltk\n",
    "import glob\n",
    "import re\n",
    "import os\n",
    "from bs4 import BeautifulSoup\n",
    "from sklearn import feature_extraction\n",
    "from nltk.stem.snowball import SnowballStemmer\n",
    "stemmer = SnowballStemmer(\"english\")"
   ]
  },
  {
   "cell_type": "markdown",
   "metadata": {},
   "source": [
    "# Part1 Scrape Web Page"
   ]
  },
  {
   "cell_type": "code",
   "execution_count": 61,
   "metadata": {},
   "outputs": [],
   "source": [
    "seed_urls = ['https://inshorts.com/en/read/technology',\n",
    "             'https://inshorts.com/en/read/sports',\n",
    "             'https://inshorts.com/en/read/crime',\n",
    "             'https://inshorts.com/en/read/politics']\n",
    "\n",
    "def build_dataset(seed_urls):\n",
    "    news_data = []\n",
    "    for url in seed_urls:\n",
    "        news_category = url.split('/')[-1]\n",
    "        data = requests.get(url)\n",
    "        soup = BeautifulSoup(data.content, 'html.parser')\n",
    "        \n",
    "        news_articles = [{'news_headline': headline.find('span', \n",
    "                                                         attrs={\"itemprop\": \"headline\"}).string,\n",
    "                          'news_article': article.find('div', \n",
    "                                                       attrs={\"itemprop\": \"articleBody\"}).string,\n",
    "                          'news_category': news_category}\n",
    "                         \n",
    "                            for headline, article in \n",
    "                             zip(soup.find_all('div', \n",
    "                                               class_=[\"news-card-title news-right-box\"]),\n",
    "                                 soup.find_all('div', \n",
    "                                               class_=[\"news-card-content news-right-box\"]))\n",
    "                        ]\n",
    "        news_data.extend(news_articles)\n",
    "        \n",
    "    df =  pd.DataFrame(news_data)\n",
    "    df = df[['news_headline', 'news_article', 'news_category']]\n",
    "    return df\n"
   ]
  },
  {
   "cell_type": "code",
   "execution_count": 62,
   "metadata": {},
   "outputs": [
    {
     "data": {
      "text/html": [
       "<div>\n",
       "<style scoped>\n",
       "    .dataframe tbody tr th:only-of-type {\n",
       "        vertical-align: middle;\n",
       "    }\n",
       "\n",
       "    .dataframe tbody tr th {\n",
       "        vertical-align: top;\n",
       "    }\n",
       "\n",
       "    .dataframe thead th {\n",
       "        text-align: right;\n",
       "    }\n",
       "</style>\n",
       "<table border=\"1\" class=\"dataframe\">\n",
       "  <thead>\n",
       "    <tr style=\"text-align: right;\">\n",
       "      <th></th>\n",
       "      <th>news_headline</th>\n",
       "      <th>news_article</th>\n",
       "      <th>news_category</th>\n",
       "    </tr>\n",
       "  </thead>\n",
       "  <tbody>\n",
       "    <tr>\n",
       "      <th>0</th>\n",
       "      <td>OPPO collaborates with MS Dhoni for #BeTheInfi...</td>\n",
       "      <td>OPPO's #BeTheInfinite campaign in association ...</td>\n",
       "      <td>technology</td>\n",
       "    </tr>\n",
       "    <tr>\n",
       "      <th>1</th>\n",
       "      <td>OPPO launches #BeTheInfinite campaign in colla...</td>\n",
       "      <td>OPPO's #BeTheInfinite campaign in association ...</td>\n",
       "      <td>technology</td>\n",
       "    </tr>\n",
       "    <tr>\n",
       "      <th>2</th>\n",
       "      <td>OnePlus reveals OnePlus 8T to come with 65-wat...</td>\n",
       "      <td>OnePlus has officially announced its upcoming ...</td>\n",
       "      <td>technology</td>\n",
       "    </tr>\n",
       "    <tr>\n",
       "      <th>3</th>\n",
       "      <td>Work from home culture to continue even after ...</td>\n",
       "      <td>Microsoft Co-founder and world's second-riches...</td>\n",
       "      <td>technology</td>\n",
       "    </tr>\n",
       "    <tr>\n",
       "      <th>4</th>\n",
       "      <td>Girl's tip helps expose apps that earned scamm...</td>\n",
       "      <td>A tip by a little girl from Prague helped digi...</td>\n",
       "      <td>technology</td>\n",
       "    </tr>\n",
       "    <tr>\n",
       "      <th>5</th>\n",
       "      <td>App shows how users would look like in 'Asia',...</td>\n",
       "      <td>Photo editing app Gradient has been criticised...</td>\n",
       "      <td>technology</td>\n",
       "    </tr>\n",
       "    <tr>\n",
       "      <th>6</th>\n",
       "      <td>Some Tesla owners unable to unlock their cars ...</td>\n",
       "      <td>Tesla suffered a network outage on Wednesday t...</td>\n",
       "      <td>technology</td>\n",
       "    </tr>\n",
       "    <tr>\n",
       "      <th>7</th>\n",
       "      <td>Instagram doubles video length of Reels from 1...</td>\n",
       "      <td>Facebook-owned Instagram has begun rolling out...</td>\n",
       "      <td>technology</td>\n",
       "    </tr>\n",
       "    <tr>\n",
       "      <th>8</th>\n",
       "      <td>SoftBank to offer COVID-19 tests for $19 to co...</td>\n",
       "      <td>Japanese conglomerate SoftBank said it would o...</td>\n",
       "      <td>technology</td>\n",
       "    </tr>\n",
       "    <tr>\n",
       "      <th>9</th>\n",
       "      <td>Google Maps adds COVID-19 layer to display num...</td>\n",
       "      <td>Google has announced an update of Google Maps ...</td>\n",
       "      <td>technology</td>\n",
       "    </tr>\n",
       "  </tbody>\n",
       "</table>\n",
       "</div>"
      ],
      "text/plain": [
       "                                       news_headline  \\\n",
       "0  OPPO collaborates with MS Dhoni for #BeTheInfi...   \n",
       "1  OPPO launches #BeTheInfinite campaign in colla...   \n",
       "2  OnePlus reveals OnePlus 8T to come with 65-wat...   \n",
       "3  Work from home culture to continue even after ...   \n",
       "4  Girl's tip helps expose apps that earned scamm...   \n",
       "5  App shows how users would look like in 'Asia',...   \n",
       "6  Some Tesla owners unable to unlock their cars ...   \n",
       "7  Instagram doubles video length of Reels from 1...   \n",
       "8  SoftBank to offer COVID-19 tests for $19 to co...   \n",
       "9  Google Maps adds COVID-19 layer to display num...   \n",
       "\n",
       "                                        news_article news_category  \n",
       "0  OPPO's #BeTheInfinite campaign in association ...    technology  \n",
       "1  OPPO's #BeTheInfinite campaign in association ...    technology  \n",
       "2  OnePlus has officially announced its upcoming ...    technology  \n",
       "3  Microsoft Co-founder and world's second-riches...    technology  \n",
       "4  A tip by a little girl from Prague helped digi...    technology  \n",
       "5  Photo editing app Gradient has been criticised...    technology  \n",
       "6  Tesla suffered a network outage on Wednesday t...    technology  \n",
       "7  Facebook-owned Instagram has begun rolling out...    technology  \n",
       "8  Japanese conglomerate SoftBank said it would o...    technology  \n",
       "9  Google has announced an update of Google Maps ...    technology  "
      ]
     },
     "execution_count": 62,
     "metadata": {},
     "output_type": "execute_result"
    }
   ],
   "source": [
    "news_df = build_dataset(seed_urls)\n",
    "news_df.head(10)"
   ]
  },
  {
   "cell_type": "code",
   "execution_count": 63,
   "metadata": {},
   "outputs": [
    {
     "data": {
      "text/plain": [
       "politics      25\n",
       "sports        25\n",
       "crime         25\n",
       "technology    25\n",
       "Name: news_category, dtype: int64"
      ]
     },
     "execution_count": 63,
     "metadata": {},
     "output_type": "execute_result"
    }
   ],
   "source": [
    "news_df.news_category.value_counts()"
   ]
  },
  {
   "cell_type": "markdown",
   "metadata": {},
   "source": [
    "# Part2 Clustering and Topic modeling"
   ]
  },
  {
   "cell_type": "markdown",
   "metadata": {},
   "source": [
    "## Text Preprocessing"
   ]
  },
  {
   "cell_type": "code",
   "execution_count": 64,
   "metadata": {},
   "outputs": [],
   "source": [
    "from sklearn.feature_extraction.text import CountVectorizer\n",
    "# define the function for lemmatization\n",
    "def lemma_tokenizer(text):\n",
    "    # use the standard scikit-learn tokenizer first\n",
    "    standard_tokenizer = CountVectorizer().build_tokenizer()\n",
    "    tokens = standard_tokenizer(text)\n",
    "    # then use NLTK to perform lemmatisation on each token\n",
    "    lemmatizer = nltk.stem.WordNetLemmatizer()\n",
    "    lemma_tokens=[]\n",
    "    for token in tokens:\n",
    "        if re.search('[a-zA-Z]', token):  # save those which are non-numeric\n",
    "            lemma_tokens.append(lemmatizer.lemmatize(token))\n",
    "    return lemma_tokens"
   ]
  },
  {
   "cell_type": "markdown",
   "metadata": {},
   "source": [
    "### tf-idf(term freq inverse document freq)"
   ]
  },
  {
   "cell_type": "code",
   "execution_count": 65,
   "metadata": {},
   "outputs": [
    {
     "name": "stderr",
     "output_type": "stream",
     "text": [
      "C:\\Users\\PINTU\\Anaconda3\\lib\\site-packages\\sklearn\\feature_extraction\\text.py:385: UserWarning: Your stop_words may be inconsistent with your preprocessing. Tokenizing the stop words generated tokens ['ha', 'le', 'u', 'wa'] not in stop_words.\n",
      "  'stop_words.' % sorted(inconsistent))\n"
     ]
    }
   ],
   "source": [
    "from sklearn.feature_extraction.text import TfidfVectorizer\n",
    "#chosen n-gram of three words. It will produce phrases containing upto three words\n",
    "vectorizer = TfidfVectorizer(min_df=5,stop_words='english',tokenizer=lemma_tokenizer, ngram_range=(1,3)) \n",
    "#fit the vectorizer to documents\n",
    "tfidf_matrix = vectorizer.fit_transform(news_df.news_article)"
   ]
  },
  {
   "cell_type": "code",
   "execution_count": 66,
   "metadata": {},
   "outputs": [
    {
     "name": "stdout",
     "output_type": "stream",
     "text": [
      "['passed' 'sabha' 'include' 'home' 'tuesday' 'rajya sabha' 'rajya'\n",
      " 'people' 'said' 'ha' 'india' 'including' 'family' 'kolkata' 'kkr'\n",
      " 'farmer' 'government' 'ha said' 'history' 'ipl' 'hour' 'end' 'inside'\n",
      " 'house' 'indian' 'facebook' 'year old' 'like' 'come' 'added' 'allegedly'\n",
      " 'announced' 'app' 'arrested' 'asked' 'batsman' 'captain' 'case'\n",
      " 'commentator' 'election']\n"
     ]
    }
   ],
   "source": [
    "terms = vectorizer.get_feature_names()\n",
    "feature_array = np.array(terms)\n",
    "tfidf_sorting = np.argsort(tfidf_matrix.toarray()).flatten()[::-1]\n",
    "n = 40\n",
    "top_n = feature_array[tfidf_sorting][:n]\n",
    "print(top_n)"
   ]
  },
  {
   "cell_type": "markdown",
   "metadata": {},
   "source": [
    "## KMeans Clustering"
   ]
  },
  {
   "cell_type": "code",
   "execution_count": 67,
   "metadata": {},
   "outputs": [],
   "source": [
    "from sklearn.cluster import KMeans  #find best K by reducing within cluster sum of squares measure\n",
    "import matplotlib.pyplot as plt\n",
    "\n",
    "num_clusters = range(1,8)  #test for K 1 to 8 clusters to get best cluster\n",
    "KM = [KMeans(n_clusters=k).fit(tfidf_matrix) for k in num_clusters]  #fit the Kmeans to the tf-idf\n",
    "centroids = [k.cluster_centers_ for k in KM]  #get all centroids"
   ]
  },
  {
   "cell_type": "code",
   "execution_count": 68,
   "metadata": {},
   "outputs": [
    {
     "data": {
      "text/plain": [
       "Text(0.5, 1.0, 'Elbow for KMeans clustering')"
      ]
     },
     "execution_count": 68,
     "metadata": {},
     "output_type": "execute_result"
    },
    {
     "data": {
      "image/png": "[encoded data removed]",
      "text/plain": [
       "<Figure size 432x288 with 1 Axes>"
      ]
     },
     "metadata": {
      "needs_background": "light"
     },
     "output_type": "display_data"
    }
   ],
   "source": [
    "%matplotlib inline\n",
    "from scipy.spatial.distance import cdist\n",
    "\n",
    "D_k = [cdist(tfidf_matrix.toarray(), cent,'euclidean') for cent in centroids]  #euclidean as a distance measure\n",
    "eucldist = [np.min(D,axis=1) for D in D_k]  #find minimum distance\n",
    "avgWithinSM = [sum(d)/tfidf_matrix.shape[0] for d in eucldist]\n",
    "kIdx = 3\n",
    "# plot elbow\n",
    "fig = plt.figure()\n",
    "ax = fig.add_subplot(111)\n",
    "ax.plot(num_clusters, avgWithinSM, 'b*-')\n",
    "ax.plot(num_clusters[kIdx], avgWithinSM[kIdx], marker='o', markersize=12, \n",
    "    markeredgewidth=2, markeredgecolor='r', markerfacecolor='None')\n",
    "plt.grid(True)\n",
    "plt.xlabel('Number of clusters')\n",
    "plt.ylabel('Average within cluster sum of squares measure')\n",
    "plt.title('Elbow for KMeans clustering')"
   ]
  },
  {
   "cell_type": "code",
   "execution_count": 69,
   "metadata": {},
   "outputs": [],
   "source": [
    "from sklearn.cluster import KMeans\n",
    "best_K=4\n",
    "model = KMeans(best_K)  \n",
    "model.fit(tfidf_matrix)  #fit kmeans for k=4\n",
    "clusters = model.labels_.tolist()\n",
    "news = {'docs': news_df.news_article,'cluster': clusters}  #create dictionary of docs and cluster\n",
    "frame = pd.DataFrame(news, index = [clusters] , columns = ['cluster'])  #this frame will help in cross-tabulation"
   ]
  },
  {
   "cell_type": "code",
   "execution_count": 70,
   "metadata": {},
   "outputs": [
    {
     "name": "stdout",
     "output_type": "stream",
     "text": [
      "Number of documents per cluster\n"
     ]
    },
    {
     "data": {
      "text/plain": [
       "0    29\n",
       "3    27\n",
       "1    25\n",
       "2    19\n",
       "Name: cluster, dtype: int64"
      ]
     },
     "execution_count": 70,
     "metadata": {},
     "output_type": "execute_result"
    }
   ],
   "source": [
    "print('Number of documents per cluster')\n",
    "frame['cluster'].value_counts()   #get total document count grouped in each cluster"
   ]
  },
  {
   "cell_type": "markdown",
   "metadata": {},
   "source": [
    "## Hierarchical Clustering"
   ]
  },
  {
   "cell_type": "markdown",
   "metadata": {},
   "source": [
    "Clustering the data using hierarchical clustering with the ward's method.\n",
    "\n",
    "Ward's minimum variance criterion minimizes the total within-cluster variance. To implement this method, at each step find the pair of clusters that leads to minimum increase in total within-cluster variance after merging. This increase is a weighted squared distance between cluster centers. At the initial step, all clusters are singletons (clusters containing a single point). To apply a recursive algorithm under this objective function, the initial distance between individual objects must be (proportional to) squared distance metric used.\n",
    "\n",
    "Ward's method is the closest, by it properties and efficiency, to K-means clustering,hence it is chosen over single, complete and average linkage hierarchical clustering"
   ]
  },
  {
   "cell_type": "code",
   "execution_count": 71,
   "metadata": {},
   "outputs": [
    {
     "data": {
      "image/png": "[encoded data removed]",
      "text/plain": [
       "<Figure size 1080x1440 with 1 Axes>"
      ]
     },
     "metadata": {
      "needs_background": "light"
     },
     "output_type": "display_data"
    }
   ],
   "source": [
    "\n",
    "from scipy.cluster.hierarchy import ward,dendrogram\n",
    "from sklearn.metrics.pairwise import cosine_similarity\n",
    "dist = 1 - cosine_similarity(tfidf_matrix)   #using cosine distance\n",
    "linkage_matrix = ward(dist)   #get linkage matrix using ward's method\n",
    "\n",
    "fig, ax = plt.subplots(figsize=(15, 20)) # set size \n",
    "ax = dendrogram(linkage_matrix, orientation=\"right\")   #get the dendrogram\n",
    "\n",
    "plt.tick_params(   #set tick parameters\n",
    "    axis= 'x',          \n",
    "    which='both',     \n",
    "    bottom='off',      \n",
    "    top='off',        \n",
    "    labelbottom='off')\n",
    "\n",
    "plt.tight_layout()"
   ]
  },
  {
   "cell_type": "code",
   "execution_count": 72,
   "metadata": {},
   "outputs": [
    {
     "name": "stdout",
     "output_type": "stream",
     "text": [
      "Number of documents per cluster\n",
      "[[ 1 17]\n",
      " [ 2 11]\n",
      " [ 3  9]\n",
      " [ 4 63]]\n"
     ]
    }
   ],
   "source": [
    "import numpy as np\n",
    "from scipy.cluster.hierarchy import fcluster\n",
    "# cut-off the tree to leave 4 clusters\n",
    "clustering = fcluster(linkage_matrix,4,'maxclust')\n",
    "print('Number of documents per cluster')\n",
    "x = np.array(clustering)\n",
    "unique, counts = np.unique(clustering, return_counts=True)\n",
    "unique, counts = np.unique(x, return_counts=True)\n",
    "print(np.asarray((unique, counts)).T)"
   ]
  },
  {
   "cell_type": "code",
   "execution_count": 82,
   "metadata": {},
   "outputs": [],
   "source": [
    "indexlist=[]   #get list to plot legends\n",
    "legendlist=[]\n",
    "legendlist.append('Digital Technology')\n",
    "indices = [p for p, s in enumerate(news_df.news_article) if 'company' in s]   #find most frequent label for mobile\n",
    "a = np.array(clustering[indices])\n",
    "counts = np.bincount(a)\n",
    "indexlist.append(np.argmax(counts))   \n",
    "\n",
    "legendlist.append('Crime')\n",
    "indices = [p for p, s in enumerate(news_df.news_article) if 'arrested' in s] #find most frequent label for crime\n",
    "a = np.array(clustering[indices])\n",
    "counts = np.bincount(a)\n",
    "indexlist.append(np.argmax(counts)) \n",
    "\n",
    "legendlist.append('Politics')\n",
    "indices = [p for p, s in enumerate(news_df.news_article) if 'election' in s]  #find most frequent label for politics\n",
    "a = np.array(clustering[indices])\n",
    "counts = np.bincount(a)\n",
    "indexlist.append(np.argmax(counts))  \n",
    "\n",
    "legendlist.append('Sports')\n",
    "indices = [p for p, s in enumerate(news_df.news_article) if 'team' in s]  #find most frequent label for sport\n",
    "a = np.array(clustering[indices])\n",
    "counts = np.bincount(a)\n",
    "indexlist.append(np.argmax(counts))"
   ]
  },
  {
   "cell_type": "markdown",
   "metadata": {},
   "source": [
    "## Vizualization of Hierarchical clustering using Principal Component analysis"
   ]
  },
  {
   "cell_type": "code",
   "execution_count": 85,
   "metadata": {},
   "outputs": [
    {
     "data": {
      "text/plain": [
       "Text(0.5, 1.0, 'K-means clusters of the news documents')"
      ]
     },
     "execution_count": 85,
     "metadata": {},
     "output_type": "execute_result"
    },
    {
     "data": {
      "image/png": "[encoded data removed]",
      "text/plain": [
       "<Figure size 432x288 with 1 Axes>"
      ]
     },
     "metadata": {
      "needs_background": "light"
     },
     "output_type": "display_data"
    }
   ],
   "source": [
    "# again use PCA to plot clusters generated using hierarchical clustering\n",
    "from sklearn.decomposition import PCA\n",
    "import pylab as pl\n",
    "pca = PCA(n_components=2).fit(tfidf_matrix.todense())\n",
    "data2D = pca.transform(tfidf_matrix.todense())\n",
    "\n",
    "for i in range(0, data2D.shape[0]):\n",
    "    if clustering[i] == 2:\n",
    "        c1 = plt.scatter(data2D[i,0],data2D[i,1],c='#1b9e77', marker='+')\n",
    "    elif clustering[i] == 1:\n",
    "        c2 = plt.scatter(data2D[i,0],data2D[i,1],c='#a3061e',marker='o')\n",
    "    elif clustering[i] == 3:\n",
    "        c3 = plt.scatter(data2D[i,0],data2D[i,1],c='#7570b3',marker='*')\n",
    "    elif clustering[i] == 4:\n",
    "        c4 = plt.scatter(data2D[i,0],data2D[i,1],c='#f99d0c',marker='x')\n",
    "pl.legend([c1, c2, c3,c4],[legendlist[indexlist.index(3)],legendlist[indexlist.index(4)],legendlist[indexlist.index(4)],legendlist[indexlist.index(1)]])\n",
    "pl.title('K-means clusters of the news documents')"
   ]
  },
  {
   "cell_type": "markdown",
   "metadata": {},
   "source": [
    "## Topics(NMF and LDA)"
   ]
  },
  {
   "cell_type": "markdown",
   "metadata": {},
   "source": [
    "Latent Dirichlet Allocation (LDA) is used to discover the topics that are present in a corpus. Non-negative Matrix Factorization (NMF), can also be used to find topics in text. The mathematical basis underpinning NMF is quite different from LDA.NMF sometimes produces more meaningful topics for smaller datasets.\n",
    "\n",
    "Both algorithms are able to return the documents that belong to a topic in a corpus and the words that belong to a topic. LDA is based on probabilistic graphical modeling while NMF relies on linear algebra. Both algorithms take as input a bag of words matrix (i.e., each document represented as a row, with each columns containing the count of words in the corpus). The aim of each algorithm is then to produce 2 smaller matrices; a document to topic matrix and a word to topic matrix that when multiplied together reproduce the bag of words matrix with the lowest error.\n",
    "\n",
    "Both NMF and LDA are not able to automatically determine the number of topics and this must be specified. I have used NMF as dataset is not quite big."
   ]
  },
  {
   "cell_type": "code",
   "execution_count": 73,
   "metadata": {},
   "outputs": [],
   "source": [
    "from sklearn.decomposition import NMF, LatentDirichletAllocation\n",
    "\n",
    "#function displays top words for a Topic\n",
    "def display_topics(model, feature_names, no_top_words):\n",
    "    s=\",\"\n",
    "    for topic_index, topic in enumerate(model.components_):\n",
    "        print (\"Keywords of topic %d:\" % (topic_index))\n",
    "        print (s.join([feature_names[i] for i in topic.argsort()[:-no_top_words - 1:-1]]))"
   ]
  },
  {
   "cell_type": "code",
   "execution_count": 74,
   "metadata": {},
   "outputs": [
    {
     "name": "stdout",
     "output_type": "stream",
     "text": [
      "Keywords of topic 0:\n",
      "mp,sabha,rajya,rajya sabha,congress,party,said,added,passed,day\n",
      "Keywords of topic 1:\n",
      "ipl,run,mumbai,indian,captain,kxip,wa,rcb,batsman,team\n",
      "Keywords of topic 2:\n",
      "police,case,arrested,wa,ha,year,family,member,said,wife\n",
      "Keywords of topic 3:\n",
      "app,tiktok,user,u,company,time,ha,new,said,wednesday\n"
     ]
    }
   ],
   "source": [
    "no_topics = 4  #four is selected as there are four clusters\n",
    "# Run NMF\n",
    "nmf = NMF(n_components=no_topics, random_state=1, alpha=.1, l1_ratio=.5, init='nndsvd').fit(tfidf_matrix)\n",
    "no_top_words = 10\n",
    "display_topics(nmf, terms, no_top_words)"
   ]
  },
  {
   "cell_type": "markdown",
   "metadata": {},
   "source": [
    "#### Clearly documents related to 'politics','Sports','Digital Technology' and'Crime'. These are the four topics or theme of each of the four clusters."
   ]
  }
 ],
 "metadata": {
  "kernelspec": {
   "display_name": "Python 3",
   "language": "python",
   "name": "python3"
  },
  "language_info": {
   "codemirror_mode": {
    "name": "ipython",
    "version": 3
   },
   "file_extension": ".py",
   "mimetype": "text/x-python",
   "name": "python",
   "nbconvert_exporter": "python",
   "pygments_lexer": "ipython3",
   "version": "3.7.3"
  }
 },
 "nbformat": 4,
 "nbformat_minor": 2
}
