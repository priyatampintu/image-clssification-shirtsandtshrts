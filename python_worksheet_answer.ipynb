{
 "cells": [
  {
   "cell_type": "markdown",
   "metadata": {},
   "source": [
    "# Python - WORKSHEET 1\n",
    "## ANSWER KEYS\n",
    "\n",
    "1. B) struct\n",
    "2. C) 1_no\n",
    "3. A) in\n",
    "4. A) Left to Right\n",
    "5. C) iv – iii – ii – i\n",
    "6. C) 0.3333…\n",
    "7. C) x^16\n",
    "8. B) str\n",
    "9. A) Division and multiplication have same precedence in python\n",
    "   D) In case of operators’ having same precedence, the one on the left side is executed first.\n",
    "10. C) a,b,c = 1000, 2000, 3000\n",
    "\n",
    "11. **list** -Lists is one of the most versatile collection object types available in Python. (dictionaries and tuples being         the other two, which in a way, more like variations of lists).\n",
    "      -> A list is a mutable, ordered sequence of items. As such, it can be indexed, sliced, and changed. Each element can be           accessed using its position in the list.\n",
    "      -> Lists can be used for any type of object, from numbers and strings to more lists.   \n",
    "    **tuple** - Tuples are used to hold together multiple objects. Think of them as similar to lists, but without the extensive       functionality that the list class gives you. One major feature of tuples is that they are immutable like strings i.e. you       cannot modify tuples.\n",
    "      -> The indexing and slicing in tuple are similar to lists. The indexing in the tuple starts from 0 and goes to                  length(tuple) — 1.\n",
    "    **set** -  A Python set is a slightly different concept from a list or a tuple. A set, in Python, is just like the               mathematical set. It does not hold duplicate values and is unordered. However, it is not immutable, unlike a tuple.\n",
    "    **Dictionaries** - It holds word-meaning pairs. Likewise, a Python dictionary holds key-value pairs. However, you may not         use an unhashable item as a key.  \n",
    "12.  no,string is immutable.\n",
    "13. **ord()** - The ord() function in Python accepts a string of length 1 as an argument and returns the unicode code point         representation of the passed argument. For example ord('B') returns 66 which is a unicode code point value of character         ‘B’.\n",
    "14. answer below\n",
    "15. answer below"
   ]
  },
  {
   "cell_type": "markdown",
   "metadata": {},
   "source": [
    "### 12.string is immutable"
   ]
  },
  {
   "cell_type": "code",
   "execution_count": 55,
   "metadata": {},
   "outputs": [
    {
     "data": {
      "text/plain": [
       "'I Love Python'"
      ]
     },
     "execution_count": 55,
     "metadata": {},
     "output_type": "execute_result"
    }
   ],
   "source": [
    "x = 'I+Love+Python'\n",
    "x.replace('+',' ')"
   ]
  },
  {
   "cell_type": "markdown",
   "metadata": {},
   "source": [
    "### 13. ord() function"
   ]
  },
  {
   "cell_type": "code",
   "execution_count": 59,
   "metadata": {},
   "outputs": [
    {
     "name": "stdout",
     "output_type": "stream",
     "text": [
      "The ASCII value of B is 66\n",
      "The ASCII value of = is 61\n"
     ]
    }
   ],
   "source": [
    "print(\"The ASCII value of B is\",ord('B'))\n",
    "print(\"The ASCII value of = is\",ord('='))"
   ]
  },
  {
   "cell_type": "markdown",
   "metadata": {},
   "source": [
    "### 14. solve a quadratic equation of the form 𝑎𝑥2+𝑏𝑥+𝑐=0."
   ]
  },
  {
   "cell_type": "code",
   "execution_count": 60,
   "metadata": {},
   "outputs": [
    {
     "name": "stdout",
     "output_type": "stream",
     "text": [
      "enter number2\n",
      "enter number4\n",
      "enter number8\n",
      "The solution are (-1-1.7320508075688772j) and (-1+1.7320508075688772j)\n"
     ]
    }
   ],
   "source": [
    "# Solve the quadratic equation ax**2 + bx + c = 0\n",
    "\n",
    "# import complex math module\n",
    "import cmath\n",
    "\n",
    "a = int(input('enter number'))\n",
    "b = int(input('enter number'))\n",
    "c = int(input('enter number'))\n",
    "\n",
    "# calculate the discriminant\n",
    "d = (b**2) - (4*a*c)\n",
    "\n",
    "# find two solutions\n",
    "sol_1 = (-b-cmath.sqrt(d))/(2*a)\n",
    "sol_2 = (-b+cmath.sqrt(d))/(2*a)\n",
    "\n",
    "print('The solution are {0} and {1}'.format(sol_1,sol_2))"
   ]
  },
  {
   "cell_type": "markdown",
   "metadata": {},
   "source": [
    "### 15. find the sum of first ‘n’ natural numbers without using any loop"
   ]
  },
  {
   "cell_type": "code",
   "execution_count": 62,
   "metadata": {},
   "outputs": [
    {
     "name": "stdout",
     "output_type": "stream",
     "text": [
      "enter positive number 14\n",
      "The sum is 105\n"
     ]
    }
   ],
   "source": [
    "# Sum of natural numbers up to num\n",
    "\n",
    "num = int(input('enter positive number '))\n",
    "\n",
    "if num < 0:\n",
    "    print(\"Enter a positive number\")\n",
    "else:\n",
    "    sum = 0\n",
    "   # use while loop to iterate until zero\n",
    "    while(num > 0):\n",
    "        sum += num\n",
    "        num -= 1\n",
    "    print(\"The sum is\", sum)"
   ]
  }
 ],
 "metadata": {
  "kernelspec": {
   "display_name": "Python 3",
   "language": "python",
   "name": "python3"
  },
  "language_info": {
   "codemirror_mode": {
    "name": "ipython",
    "version": 3
   },
   "file_extension": ".py",
   "mimetype": "text/x-python",
   "name": "python",
   "nbconvert_exporter": "python",
   "pygments_lexer": "ipython3",
   "version": "3.7.3"
  }
 },
 "nbformat": 4,
 "nbformat_minor": 2
}
