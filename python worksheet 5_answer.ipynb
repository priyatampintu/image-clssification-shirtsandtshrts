{
 "cells": [
  {
   "cell_type": "markdown",
   "metadata": {},
   "source": [
    "# Python worksheet 5"
   ]
  },
  {
   "cell_type": "markdown",
   "metadata": {},
   "source": [
    "1.C\n",
    "2. D\n",
    "3. B\n",
    "4. D\n",
    "5. C\n",
    "6. C\n",
    "7. B\n",
    "8. B\n",
    "9. D\n",
    "10. D\n",
    "11. **List** - can be 2-D whereas a set can't.\n",
    "    As list are ordered (IE. have serial number) list are comparatively slow to execute whereas sets are fast.\n",
    "   List in python is like Array of java or c.\n",
    "   SET = Printing a set almost always provide different sequence of output.\n",
    "   uses hash function to find an element whereas list is an array. Hence finding element in Set is faster than in list.   "
   ]
  },
  {
   "cell_type": "markdown",
   "metadata": {},
   "source": [
    "#### 12. write a python program to square the elements of a list by using list comprehension."
   ]
  },
  {
   "cell_type": "code",
   "execution_count": 52,
   "metadata": {},
   "outputs": [
    {
     "data": {
      "text/plain": [
       "[1, 4, 9, 16, 25]"
      ]
     },
     "execution_count": 52,
     "metadata": {},
     "output_type": "execute_result"
    }
   ],
   "source": [
    "l = [1,2,3,4,5]\n",
    "sq_list = [x**2 for x in l]\n",
    "sq_list"
   ]
  },
  {
   "cell_type": "markdown",
   "metadata": {},
   "source": [
    "#### 13. Write a pyhton program to drop duplicate elements from a list of numbers."
   ]
  },
  {
   "cell_type": "code",
   "execution_count": 53,
   "metadata": {},
   "outputs": [
    {
     "data": {
      "text/plain": [
       "[1, 2, 3, 4]"
      ]
     },
     "execution_count": 53,
     "metadata": {},
     "output_type": "execute_result"
    }
   ],
   "source": [
    "l = [1,2,3,1,4,1,2,4]\n",
    "unique_list = list(set(l))\n",
    "unique_list"
   ]
  },
  {
   "cell_type": "markdown",
   "metadata": {},
   "source": [
    "#### 14. Take two sets of numbers and try implementing the set operations - intersection, union, difference and symmetric_difference between them."
   ]
  },
  {
   "cell_type": "code",
   "execution_count": 67,
   "metadata": {},
   "outputs": [
    {
     "name": "stdout",
     "output_type": "stream",
     "text": [
      "intersection{1}\n",
      "union {1, 2, 3, 4, 6, 7, 8}\n",
      "differnce set {2, 3, 4}\n",
      "symmeteric_diff {2, 3, 4, 6, 7, 8}\n"
     ]
    }
   ],
   "source": [
    "s1 = {1,2,3,4}\n",
    "s2 = {1,6,7,8}\n",
    "inter_set = s1.intersection(s2)\n",
    "print( 'intersection{}'.format(inter_set))\n",
    "union = s1.union(s2)\n",
    "print('union {}'.format(union))\n",
    "diff = s1-s2\n",
    "print(\"differnce set {}\".format(diff))\n",
    "symm = s1.symmetric_difference(s2)\n",
    "print('symmeteric_diff {}'.format(symm))"
   ]
  },
  {
   "cell_type": "markdown",
   "metadata": {},
   "source": [
    "#### 15. Write a python program to add the elements of a set."
   ]
  },
  {
   "cell_type": "code",
   "execution_count": 68,
   "metadata": {},
   "outputs": [],
   "source": [
    "s1 = {1,2,3,4}\n",
    "add_set = s1.add(5)\n",
    "add_set"
   ]
  }
 ],
 "metadata": {
  "kernelspec": {
   "display_name": "Python 3",
   "language": "python",
   "name": "python3"
  },
  "language_info": {
   "codemirror_mode": {
    "name": "ipython",
    "version": 3
   },
   "file_extension": ".py",
   "mimetype": "text/x-python",
   "name": "python",
   "nbconvert_exporter": "python",
   "pygments_lexer": "ipython3",
   "version": "3.7.3"
  }
 },
 "nbformat": 4,
 "nbformat_minor": 2
}
