{
 "cells": [
  {
   "cell_type": "markdown",
   "metadata": {},
   "source": [
    "# NAME : PRIYATAM PINTU----------BATCH_ID = 1814"
   ]
  },
  {
   "cell_type": "markdown",
   "metadata": {},
   "source": [
    "### 1. sum of the numbers starting from 1 to 100"
   ]
  },
  {
   "cell_type": "code",
   "execution_count": 1,
   "metadata": {},
   "outputs": [
    {
     "data": {
      "text/plain": [
       "5050"
      ]
     },
     "execution_count": 1,
     "metadata": {},
     "output_type": "execute_result"
    }
   ],
   "source": [
    "print(sum(range(1,101)))"
   ]
  },
  {
   "cell_type": "markdown",
   "metadata": {},
   "source": [
    "### 2. average of numbers in a list"
   ]
  },
  {
   "cell_type": "code",
   "execution_count": 15,
   "metadata": {},
   "outputs": [
    {
     "name": "stdout",
     "output_type": "stream",
     "text": [
      "4.0\n"
     ]
    }
   ],
   "source": [
    "list1 =[2,3,4,5,6]\n",
    "sum =0\n",
    "for i in range(0,len(list1)):\n",
    "    sum += list1[i]\n",
    "    \n",
    "print(sum/len(list1))"
   ]
  },
  {
   "cell_type": "markdown",
   "metadata": {},
   "source": [
    "### 3. reverse a number"
   ]
  },
  {
   "cell_type": "code",
   "execution_count": 17,
   "metadata": {},
   "outputs": [
    {
     "name": "stdout",
     "output_type": "stream",
     "text": [
      "2654\n"
     ]
    }
   ],
   "source": [
    "n = int(input(\"Enter any number: \")) \n",
    "rev = 0\n",
    "  \n",
    "while(n > 0): \n",
    "    a = n % 10\n",
    "    rev = rev * 10 + a \n",
    "    n = n // 10\n",
    "      \n",
    "print(rev) \n"
   ]
  },
  {
   "cell_type": "markdown",
   "metadata": {},
   "source": [
    "### 4. sum of the digits of a number"
   ]
  },
  {
   "cell_type": "code",
   "execution_count": 20,
   "metadata": {},
   "outputs": [
    {
     "name": "stdout",
     "output_type": "stream",
     "text": [
      "9\n"
     ]
    }
   ],
   "source": [
    "def getSum(n): \n",
    "   \n",
    "    sum = 0\n",
    "    while (n != 0): \n",
    "      \n",
    "        sum = sum + int(n % 10) \n",
    "        n = int(n/10) \n",
    "      \n",
    "    return sum\n",
    "  \n",
    "#n = 234\n",
    "print(getSum(int(input(\"Enter any number: \"))))"
   ]
  },
  {
   "cell_type": "markdown",
   "metadata": {},
   "source": [
    "### 5. Check if a Number is a Palindrome or not"
   ]
  },
  {
   "cell_type": "code",
   "execution_count": 21,
   "metadata": {},
   "outputs": [
    {
     "name": "stdout",
     "output_type": "stream",
     "text": [
      "The original number is : 1457541\n",
      "Is the number palindrome ? : True\n"
     ]
    }
   ],
   "source": [
    "# initializing number  \n",
    "test_number = int(input(\"Enter any number: \"))\n",
    "  \n",
    "# printing the original number  \n",
    "print (\"The original number is : \" + str(test_number)) \n",
    "  \n",
    "# using str() + string slicing \n",
    "# for checking a number is palindrome \n",
    "res = str(test_number) == str(test_number)[::-1] \n",
    "  \n",
    "# printing result \n",
    "print (\"Is the number palindrome ? : \" + str(res))"
   ]
  },
  {
   "cell_type": "markdown",
   "metadata": {},
   "source": [
    "### 6. Count the Number of Digits in a Number"
   ]
  },
  {
   "cell_type": "code",
   "execution_count": 22,
   "metadata": {},
   "outputs": [
    {
     "name": "stdout",
     "output_type": "stream",
     "text": [
      "4\n"
     ]
    }
   ],
   "source": [
    "n = int(input(\"Enter any number: \"))\n",
    "count = 0\n",
    "  \n",
    "while(n > 0): \n",
    "    a = n % 10\n",
    "    count += 1\n",
    "    n = n // 10\n",
    "      \n",
    "print(count) \n"
   ]
  },
  {
   "cell_type": "markdown",
   "metadata": {},
   "source": [
    "### 7. Table of a Given Number"
   ]
  },
  {
   "cell_type": "code",
   "execution_count": 56,
   "metadata": {},
   "outputs": [
    {
     "name": "stdout",
     "output_type": "stream",
     "text": [
      "Enter any number: 2\n",
      "table of 2 is \n",
      "2\n",
      "4\n",
      "6\n",
      "8\n",
      "10\n",
      "12\n",
      "14\n",
      "16\n",
      "18\n",
      "20\n"
     ]
    }
   ],
   "source": [
    "n = int(input(\"Enter any number: \"))\n",
    "print(\"table of {0} is \".format(n))\n",
    "for i in range(1,11):\n",
    "    print(n*i)"
   ]
  },
  {
   "cell_type": "markdown",
   "metadata": {},
   "source": [
    "### 8. Check if a Number is a Prime Number"
   ]
  },
  {
   "cell_type": "code",
   "execution_count": 27,
   "metadata": {},
   "outputs": [
    {
     "name": "stdout",
     "output_type": "stream",
     "text": [
      "number is prime\n"
     ]
    }
   ],
   "source": [
    "def prime(n):\n",
    "    if (n%2==0):\n",
    "        print('number is prime')\n",
    "    else:\n",
    "        print('number is not prime')\n",
    "\n",
    "prime(int(input(\"Enter any number: \")))        "
   ]
  },
  {
   "cell_type": "markdown",
   "metadata": {},
   "source": [
    "### 9. Check if a Number is an Armstrong Number"
   ]
  },
  {
   "cell_type": "code",
   "execution_count": 38,
   "metadata": {},
   "outputs": [
    {
     "name": "stdout",
     "output_type": "stream",
     "text": [
      "135 is not an Armstrong number\n"
     ]
    }
   ],
   "source": [
    "num = int(input(\"Enter any number: \"))\n",
    "\n",
    "# Changed num variable to string, \n",
    "# and calculated the length (number of digits)\n",
    "order = len(str(num))\n",
    "\n",
    "# initialize sum\n",
    "sum = 0\n",
    "\n",
    "# find the sum of the cube of each digit\n",
    "temp = num\n",
    "while temp > 0:\n",
    "   digit = temp % 10\n",
    "   sum += digit ** order\n",
    "   temp //= 10\n",
    "\n",
    "# display the result\n",
    "if num == sum:\n",
    "   print(num,\"is an Armstrong number\")\n",
    "else:\n",
    "   print(num,\"is not an Armstrong number\")"
   ]
  },
  {
   "cell_type": "markdown",
   "metadata": {},
   "source": [
    "### 10. Check if a Number is a Perfect Number"
   ]
  },
  {
   "cell_type": "code",
   "execution_count": 39,
   "metadata": {},
   "outputs": [
    {
     "name": "stdout",
     "output_type": "stream",
     "text": [
      "Enter any number: 6\n",
      "The number is a Perfect number!\n"
     ]
    }
   ],
   "source": [
    "n = int(input(\"Enter any number: \"))\n",
    "sum1 = 0\n",
    "for i in range(1, n):\n",
    "    if(n % i == 0):\n",
    "        sum1 = sum1 + i\n",
    "if (sum1 == n):\n",
    "    print(\"The number is a Perfect number!\")\n",
    "else:\n",
    "    print(\"The number is not a Perfect number!\")"
   ]
  },
  {
   "cell_type": "markdown",
   "metadata": {},
   "source": [
    "### 11. Check if a Number is a Strong Number"
   ]
  },
  {
   "cell_type": "code",
   "execution_count": 40,
   "metadata": {},
   "outputs": [
    {
     "name": "stdout",
     "output_type": "stream",
     "text": [
      "[1, 2, 145]\n"
     ]
    }
   ],
   "source": [
    "# Strong Numbers in given list \n",
    "def factorial(number): \n",
    "    if(number == 0 or number == 1): \n",
    "        fact = 1\n",
    "    else: \n",
    "        fact = number * factorial(number - 1) \n",
    "    return fact \n",
    "  \n",
    "def strong_number(list): \n",
    "    new_list =[] \n",
    "  \n",
    "    for x in list: \n",
    "        temp = x \n",
    "        sum = 0\n",
    "        while(temp): \n",
    "            rem = temp % 10\n",
    "            sum += factorial(rem) \n",
    "            temp = temp // 10\n",
    "        if(sum == x): \n",
    "            new_list.append(x) \n",
    "        else: \n",
    "            pass  \n",
    "              \n",
    "    return new_list \n",
    "          \n",
    "# Driver Code \n",
    "val_list = [1, 2, 5, 145, 653, 34] \n",
    "strong_num_list = strong_number(val_list) \n",
    "print(strong_num_list) "
   ]
  },
  {
   "cell_type": "markdown",
   "metadata": {},
   "source": [
    "### 12. Find the Second Largest Number in a List"
   ]
  },
  {
   "cell_type": "code",
   "execution_count": 41,
   "metadata": {},
   "outputs": [
    {
     "name": "stdout",
     "output_type": "stream",
     "text": [
      "45\n"
     ]
    }
   ],
   "source": [
    "# list of numbers \n",
    "list1 = [10, 20, 4, 45, 99] \n",
    "  \n",
    "# new_list is a set of list1 \n",
    "new_list = set(list1) \n",
    "  \n",
    "# removing the largest element from temp list \n",
    "new_list.remove(max(new_list)) \n",
    "  \n",
    "# elements in original list are not changed \n",
    "# print(list1) \n",
    "  \n",
    "print(max(new_list)) "
   ]
  },
  {
   "cell_type": "markdown",
   "metadata": {},
   "source": [
    "### 13. Swap the First and Last Value of a List"
   ]
  },
  {
   "cell_type": "code",
   "execution_count": 42,
   "metadata": {},
   "outputs": [
    {
     "name": "stdout",
     "output_type": "stream",
     "text": [
      "[24, 35, 9, 56, 12]\n"
     ]
    }
   ],
   "source": [
    "# Swap function \n",
    "def swapList(newList): \n",
    "    size = len(newList) \n",
    "      \n",
    "    # Swapping  \n",
    "    temp = newList[0] \n",
    "    newList[0] = newList[size - 1] \n",
    "    newList[size - 1] = temp \n",
    "      \n",
    "    return newList \n",
    "      \n",
    "# Driver code \n",
    "newList = [12, 35, 9, 56, 24] \n",
    "  \n",
    "print(swapList(newList)) "
   ]
  },
  {
   "cell_type": "markdown",
   "metadata": {},
   "source": [
    "### 14. Check if a String is a Palindrome or Not"
   ]
  },
  {
   "cell_type": "code",
   "execution_count": 44,
   "metadata": {},
   "outputs": [
    {
     "name": "stdout",
     "output_type": "stream",
     "text": [
      "Enter any number: abba\n",
      "The original number is : abba\n",
      "Is the string palindrome ? : True\n"
     ]
    }
   ],
   "source": [
    "# initializing number  \n",
    "string = input(\"Enter any number: \")\n",
    "  \n",
    "# printing the original number  \n",
    "print (\"The original number is : \" + string) \n",
    "  \n",
    "# using str() + string slicing \n",
    "# for checking a number is palindrome \n",
    "res = string == string[::-1] \n",
    "  \n",
    "# printing result \n",
    "print (\"Is the string palindrome ? : \" + str(res))"
   ]
  },
  {
   "cell_type": "markdown",
   "metadata": {},
   "source": [
    "### 15. Count the Number of Vowels in a String"
   ]
  },
  {
   "cell_type": "code",
   "execution_count": 58,
   "metadata": {},
   "outputs": [
    {
     "name": "stdout",
     "output_type": "stream",
     "text": [
      "enter the string -geyed\n",
      "No. of vowels : 2\n"
     ]
    }
   ],
   "source": [
    "# Function to count vowel \n",
    "def vowel_count(str): \n",
    "      \n",
    "    # Initializing count variable to 0 \n",
    "    count = 0\n",
    "      \n",
    "    # Creating a set of vowels \n",
    "    vowel = set(\"aeiouAEIOU\") \n",
    "      \n",
    "    # Loop to traverse the alphabet \n",
    "    # in the given string \n",
    "    for alphabet in str: \n",
    "      \n",
    "        # If alphabet is present \n",
    "        # in set vowel \n",
    "        if alphabet in vowel: \n",
    "            count = count + 1\n",
    "      \n",
    "    print(\"No. of vowels :\", count) \n",
    "      \n",
    "# Driver code  \n",
    "str = input('enter the string -')\n",
    "  \n",
    "# Function Call \n",
    "vowel_count(str) "
   ]
  },
  {
   "cell_type": "markdown",
   "metadata": {},
   "source": [
    "### 16. Check Common Letters in Two Input Strings"
   ]
  },
  {
   "cell_type": "code",
   "execution_count": 52,
   "metadata": {},
   "outputs": [
    {
     "name": "stdout",
     "output_type": "stream",
     "text": [
      "Enter first string:rrt\n",
      "Enter second string:rrer\n",
      "The common letters are:\n",
      "r\n"
     ]
    }
   ],
   "source": [
    "string1=input(\"Enter first string:\")\n",
    "string2=input(\"Enter second string:\")\n",
    "\n",
    "#create a list of two sets of strings\n",
    "all = list(set(string1)&set(string2))\n",
    "\n",
    "print(\"The common letters are:\")\n",
    "\n",
    "for i in all:\n",
    "    print(i)"
   ]
  },
  {
   "cell_type": "markdown",
   "metadata": {},
   "source": [
    "### 17. design a calculator with below requirement."
   ]
  },
  {
   "cell_type": "markdown",
   "metadata": {},
   "source": [
    "----1.It should ask the user name.\n",
    "    2.User should enter the value.\n",
    "    3.User can select any command like add, multiply, divide, Subtraction.\n",
    "    4.It should perform the operation selected & gives the output.\n",
    "    5.The program should not be terminated without user permission."
   ]
  },
  {
   "cell_type": "code",
   "execution_count": 60,
   "metadata": {},
   "outputs": [
    {
     "name": "stdout",
     "output_type": "stream",
     "text": [
      "enter your nameuser\n",
      "Please select operation -\n",
      "1. Add\n",
      "2. Subtract\n",
      "3. Multiply\n",
      "4. Divide\n",
      "\n",
      "Select operations form 1, 2, 3, 4 :2\n",
      "Enter first number: 4\n",
      "Enter second number: 2\n",
      "4 - 2 = 2\n",
      "Do you want to continue? Yes/NoNo\n"
     ]
    }
   ],
   "source": [
    "# Python program for simple calculator \n",
    "  \n",
    "# Function to add two numbers  \n",
    "def add(num1, num2): \n",
    "    return num1 + num2 \n",
    "  \n",
    "# Function to subtract two numbers  \n",
    "def subtract(num1, num2): \n",
    "    return num1 - num2 \n",
    "  \n",
    "# Function to multiply two numbers \n",
    "def multiply(num1, num2): \n",
    "    return num1 * num2 \n",
    "  \n",
    "# Function to divide two numbers \n",
    "def divide(num1, num2): \n",
    "    return num1 / num2 \n",
    "user_name = input(\"enter your name\")\n",
    "print(\"Please select operation -\\n\" \n",
    "        \"1. Add\\n\" \n",
    "        \"2. Subtract\\n\"  \n",
    "        \"3. Multiply\\n\" \n",
    "        \"4. Divide\\n\") \n",
    "  \n",
    "  \n",
    "# Take input from the user\n",
    "choice = 'Yes'\n",
    "while(choice == 'Yes'):\n",
    "    select = int(input(\"Select operations form 1, 2, 3, 4 :\")) \n",
    "\n",
    "    number_1 = int(input(\"Enter first number: \")) \n",
    "    number_2 = int(input(\"Enter second number: \")) \n",
    "\n",
    "    if select == 1: \n",
    "        print(number_1, \"+\", number_2, \"=\", \n",
    "                        add(number_1, number_2)) \n",
    "\n",
    "    elif select == 2: \n",
    "        print(number_1, \"-\", number_2, \"=\", \n",
    "                        subtract(number_1, number_2)) \n",
    "\n",
    "    elif select == 3: \n",
    "        print(number_1, \"*\", number_2, \"=\", \n",
    "                        multiply(number_1, number_2)) \n",
    "\n",
    "    elif select == 4: \n",
    "        print(number_1, \"/\", number_2, \"=\", \n",
    "                        divide(number_1, number_2)) \n",
    "    else: \n",
    "        print(\"Invalid input\")\n",
    "        \n",
    "    choice = input('Do you want to continue? Yes/No')\n",
    "    if choice == 'No':\n",
    "        break\n",
    "        exit()"
   ]
  },
  {
   "cell_type": "code",
   "execution_count": null,
   "metadata": {},
   "outputs": [],
   "source": []
  }
 ],
 "metadata": {
  "kernelspec": {
   "display_name": "Python 3",
   "language": "python",
   "name": "python3"
  },
  "language_info": {
   "codemirror_mode": {
    "name": "ipython",
    "version": 3
   },
   "file_extension": ".py",
   "mimetype": "text/x-python",
   "name": "python",
   "nbconvert_exporter": "python",
   "pygments_lexer": "ipython3",
   "version": "3.7.3"
  }
 },
 "nbformat": 4,
 "nbformat_minor": 2
}
