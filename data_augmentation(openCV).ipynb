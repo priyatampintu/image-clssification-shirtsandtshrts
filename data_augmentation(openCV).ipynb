{
 "cells": [
  {
   "cell_type": "code",
   "execution_count": 7,
   "metadata": {},
   "outputs": [],
   "source": [
    "#file_path= 'cloth/train'\n",
    "import cv2\n",
    "import os\n",
    "import numpy as np\n",
    "def train_data_path(file_path):\n",
    "    page =1\n",
    "    for file in os.listdir(file_path):\n",
    "        #print(file)\n",
    "        if file == 'men_shrts':\n",
    "            shrt_path = os.path.join(file_path,file)\n",
    "            for shrt in os.listdir(shrt_path):\n",
    "                #print(shrt)\n",
    "                data_augmentation(shrt, shrt_path, page)\n",
    "                page+= 1\n",
    "\n",
    "        if file == 'men_tshrts':\n",
    "            tshrt_path = os.path.join(file_path,file)\n",
    "            for tshrt in os.listdir(tshrt_path):\n",
    "                #print(tshrt)\n",
    "                data_augmentation(tshrt, tshrt_path, page)\n",
    "                page+= 1\n",
    "    return 'data augmentation done'          \n",
    "\n"
   ]
  },
  {
   "cell_type": "code",
   "execution_count": 8,
   "metadata": {},
   "outputs": [],
   "source": [
    "def data_augmentation(file,path,page):\n",
    "    files = os.path.join(path ,file)\n",
    "    image = cv2.imread(files)\n",
    "    #store height and width of the image\n",
    "    height, width = image.shape[:2]\n",
    "    \n",
    "    #rotations range(-30, 30)\n",
    "    rotation_matrix1 = cv2.getRotationMatrix2D((width/2, height/2), -30, .5)\n",
    "    rotation_matrix2 = cv2.getRotationMatrix2D((width/2, height/2), 30, .5)\n",
    "    \n",
    "    rotation_image1 = cv2.warpAffine(image, rotation_matrix1,(width,height))\n",
    "    rotation_image2 = cv2.warpAffine(image, rotation_matrix2,(width,height))\n",
    "    \n",
    "    cv2.imwrite(os.path.join(path ,'output_{0}_{1}.jpeg'.format(page, 'rotate-30')), rotation_image1)\n",
    "    cv2.imwrite(os.path.join(path ,'output_{0}_{1}.jpeg'.format(page, 'rotate30')), rotation_image2)\n",
    "    \n",
    "    #horizontal flip\n",
    "    flipped = cv2.flip(image, 1)\n",
    "    cv2.imwrite(os.path.join(path ,'output_{0}_{1}.jpeg'.format(page, 'flip')), flipped)\n",
    "    \n",
    "    \n",
    "    #increse and decrese brightness of image\n",
    "    M = np.ones(image.shape, dtype = 'uint8')* 75\n",
    "    \n",
    "    added = cv2.add(image, M)\n",
    "    cv2.imwrite(os.path.join(path ,'output_{0}_{1}.jpeg'.format(page, 'high')), added)\n",
    "    \n",
    "    sub = cv2.subtract(image , M)\n",
    "    cv2.imwrite(os.path.join(path ,'output_{0}_{1}.jpeg'.format(page, 'low')), sub)\n",
    "    \n",
    "    #sharping images\n",
    "    kernel_sharping = np.array([[-1,-1,-1],\n",
    "                                [-1,9,-1],\n",
    "                                [-1,-1,-1]])\n",
    "    sharped = cv2.filter2D(image, -1, kernel_sharping)\n",
    "    cv2.imwrite(os.path.join(path ,'output_{0}_{1}.jpeg'.format(page, 'sharpe')), sharped)\n",
    "    \n",
    "    return \n",
    "    \n",
    "    \n",
    "    "
   ]
  },
  {
   "cell_type": "code",
   "execution_count": 9,
   "metadata": {},
   "outputs": [
    {
     "name": "stdout",
     "output_type": "stream",
     "text": [
      "give train data path cloth/train\n"
     ]
    }
   ],
   "source": [
    "file_path= train_data_path(input('give train data path '))"
   ]
  },
  {
   "cell_type": "code",
   "execution_count": null,
   "metadata": {},
   "outputs": [],
   "source": []
  },
  {
   "cell_type": "code",
   "execution_count": null,
   "metadata": {},
   "outputs": [],
   "source": []
  },
  {
   "cell_type": "code",
   "execution_count": null,
   "metadata": {},
   "outputs": [],
   "source": []
  }
 ],
 "metadata": {
  "kernelspec": {
   "display_name": "Python 3",
   "language": "python",
   "name": "python3"
  },
  "language_info": {
   "codemirror_mode": {
    "name": "ipython",
    "version": 3
   },
   "file_extension": ".py",
   "mimetype": "text/x-python",
   "name": "python",
   "nbconvert_exporter": "python",
   "pygments_lexer": "ipython3",
   "version": "3.7.3"
  }
 },
 "nbformat": 4,
 "nbformat_minor": 2
}
