{
 "cells": [
  {
   "cell_type": "markdown",
   "metadata": {},
   "source": [
    "# Sql - WORKSHEET 1\n",
    "## ANSWER KEYS\n",
    "\n",
    "1. A) Create\n",
    "   D) ALTER\n",
    "   \n",
    "2. A) Update\n",
    "   B) Delete\n",
    "   C) Select\n",
    "   \n",
    "3. B) Structured Query Language\n",
    "4. B) Data Definition Language\n",
    "5. A) Data Manipulation Language\n",
    "6. C) Create Table A (B int,C float)\n",
    "7. D) None of them\n",
    "8. B) Alter Table A Drop Column D\n",
    "9. B) Alter Table A Alter Column D int\n",
    "10. C) Alter Table A Add Primary key B\n",
    "\n",
    "11. **Data-warehouse** -A data warehouse essentially combines information from several sources into one comprehensive database.     For example, in the business world, a data warehouse might incorporate customer information from a company's point-of-sale     systems (the cash registers), its website, its mailing lists and its comment cards.   \n",
    "12. **OLTP(Online transaction processing)** - Handles a large number of small transactions\n",
    "                                            - Simple standardized queries\n",
    "                                            - Based on INSERT, UPDATE, DELETE commands\n",
    "                                            - Control and run essential business operations in real time\n",
    "                                            - Increases productivity of end users\n",
    "                                            \n",
    "    **OLAP(Online analytical processing)**  - Handles large volumes of data with complex queries\n",
    "                                            - Complex queries\n",
    "                                            - Based on SELECT commands to aggregate data for reporting\n",
    "                                            - Plan, solve problems, support decisions, discover hidden insights\n",
    "                                            - Increases productivity of business managers, data analysts, and executives\n",
    "13. **various characteristics of data-warehouse** - Integrated-The way data is extracted and transformed is uniform,                                                               regardless of the original source.                                                                                           - Time-variant-Data is organized via time-periods (weekly, monthly,                                                               annually, etc.).\n",
    "                                                  - Non-volatile- A data warehouse is not updated in real-time.\n",
    "14. **Star-Schema** - The star schema is an important special case of the snowflake schema, and is more effective for handling                       simpler queries. The star schema gets its name from the physical model's resemblance to a star shape with                       a fact  table at its center and the dimension tables surrounding it representing the star's points.\n",
    "\n",
    "15. **SETL(SET Language)** -It is a very high-level programming language based on the mathematical theory of sets. It was                                   originally developed by (Jack) Jacob T. Schwartz at the New York University.SETL provides two basic                             aggregate data types: unordered sets, and sequences (the latter also called tuples). The elements                               of sets and tuples can be of any arbitrary type, including sets and tuples themselves. "
   ]
  }
 ],
 "metadata": {
  "kernelspec": {
   "display_name": "Python 3",
   "language": "python",
   "name": "python3"
  },
  "language_info": {
   "codemirror_mode": {
    "name": "ipython",
    "version": 3
   },
   "file_extension": ".py",
   "mimetype": "text/x-python",
   "name": "python",
   "nbconvert_exporter": "python",
   "pygments_lexer": "ipython3",
   "version": "3.7.3"
  }
 },
 "nbformat": 4,
 "nbformat_minor": 2
}
