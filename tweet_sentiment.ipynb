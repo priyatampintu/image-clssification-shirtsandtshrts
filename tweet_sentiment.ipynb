{
 "cells": [
  {
   "cell_type": "markdown",
   "metadata": {},
   "source": [
    "## 1. fetch one month of data of coronavirus from twitter before it's outbreak and after outbreak and compare peoples emotion"
   ]
  },
  {
   "cell_type": "code",
   "execution_count": 3,
   "metadata": {},
   "outputs": [],
   "source": [
    "import string\n",
    "from collections import Counter\n",
    "import matplotlib.pyplot as plt"
   ]
  },
  {
   "cell_type": "code",
   "execution_count": 4,
   "metadata": {},
   "outputs": [],
   "source": [
    "def get_tweets(from_date, to_date):\n",
    "    import GetOldTweets3 as got   # library used to scrape data from twitter without any other tools\n",
    "    tweetCriteria = got.manager.TweetCriteria().setQuerySearch('coronavirus') \\\n",
    "        .setSince(from_date) \\\n",
    "        .setUntil(to_date) \\\n",
    "        .setMaxTweets(200)\n",
    "    # Creation of list that contains all tweets\n",
    "    tweets = got.manager.TweetManager.getTweets(tweetCriteria)\n",
    "    # Creating list of chosen tweet data\n",
    "    text_tweets = [[tweet.text] for tweet in tweets]\n",
    "    return text_tweets"
   ]
  },
  {
   "cell_type": "code",
   "execution_count": 5,
   "metadata": {},
   "outputs": [],
   "source": [
    "def text_cleaning(text_tweets):\n",
    "    # reading text file\n",
    "    text = \"\"\n",
    "    \n",
    "    length = len(text_tweets)\n",
    "\n",
    "    for i in range(0, length):\n",
    "        text = text_tweets[i][0] + \" \" + text\n",
    "\n",
    "    # converting to lowercase\n",
    "    lower_case = text.lower()\n",
    "\n",
    "    # Removing punctuations\n",
    "    cleaned_text = lower_case.translate(str.maketrans('', '', string.punctuation))\n",
    "\n",
    "    # splitting text into words\n",
    "    tokenized_words = cleaned_text.split()\n",
    "    \n",
    "    return tokenized_words"
   ]
  },
  {
   "cell_type": "code",
   "execution_count": 6,
   "metadata": {},
   "outputs": [],
   "source": [
    "def text_preprocesing(tokenized_words):\n",
    "    from nltk.corpus import stopwords\n",
    "    # Removing Stop Words\n",
    "    final_words = []\n",
    "\n",
    "    for word in tokenized_words:\n",
    "        if word not in stopwords.words('english'):\n",
    "            final_words.append(word)\n",
    "\n",
    "    # Lemmatization - From plural to single + Base form of a word (example better-> good)\n",
    "    from nltk.stem import WordNetLemmatizer\n",
    "    lemma_words = []\n",
    "\n",
    "    for word in final_words:\n",
    "        word = WordNetLemmatizer().lemmatize(word)\n",
    "        lemma_words.append(word)\n",
    "    return lemma_words  "
   ]
  },
  {
   "cell_type": "code",
   "execution_count": 7,
   "metadata": {},
   "outputs": [],
   "source": [
    "def text_emotions(final_words):\n",
    "    # Get emotions text\n",
    "    emotion_list = []\n",
    "    with open('emotions.txt', 'r') as file:\n",
    "        for line in file:\n",
    "            clear_line = line.replace('\\n', '').replace(',', '').replace(\"'\", '').strip()\n",
    "            word, emotion = clear_line.split(':')\n",
    "            if word in final_words:\n",
    "                emotion_list.append(emotion)\n",
    "\n",
    "    w = Counter(emotion_list)\n",
    "    return (w)"
   ]
  },
  {
   "cell_type": "markdown",
   "metadata": {},
   "source": [
    "### one month of data of coronavirus from twitter before it's outbreak"
   ]
  },
  {
   "cell_type": "code",
   "execution_count": 8,
   "metadata": {},
   "outputs": [
    {
     "name": "stdout",
     "output_type": "stream",
     "text": [
      "Counter({' happy': 4, ' sad': 2, ' fearful': 2, ' attracted': 1, ' free': 1, ' attached': 1, ' average': 1, ' derailed': 1, ' loved': 1})\n"
     ]
    },
    {
     "data": {
      "image/png": "[encoded data removed]",
      "text/plain": [
       "<Figure size 432x288 with 1 Axes>"
      ]
     },
     "metadata": {
      "needs_background": "light"
     },
     "output_type": "display_data"
    }
   ],
   "source": [
    "text_tweets_before = get_tweets(\"2020-03-01\",\"2020-03-31\")\n",
    "tokenized_words = text_cleaning(text_tweets_before)\n",
    "final_text_before = text_preprocesing(tokenized_words)\n",
    "emotion_text_before = text_emotions(final_text_before)\n",
    "print(emotion_text_before)\n",
    "fig, ax1 = plt.subplots()\n",
    "ax1.bar(emotion_text_before.keys(), emotion_text_before.values())\n",
    "fig.autofmt_xdate()\n",
    "plt.savefig('graph.png')\n",
    "plt.show()"
   ]
  },
  {
   "cell_type": "markdown",
   "metadata": {},
   "source": [
    "### one month of data of coronavirus from twitter after it's outbreak"
   ]
  },
  {
   "cell_type": "code",
   "execution_count": 9,
   "metadata": {},
   "outputs": [
    {
     "name": "stdout",
     "output_type": "stream",
     "text": [
      "Counter({' adequate': 2, ' free': 2, ' sad': 2, ' angry': 1, ' attracted': 1, ' safe': 1, ' happy': 1})\n"
     ]
    },
    {
     "data": {
      "image/png": "[encoded data removed]",
      "text/plain": [
       "<Figure size 432x288 with 1 Axes>"
      ]
     },
     "metadata": {
      "needs_background": "light"
     },
     "output_type": "display_data"
    }
   ],
   "source": [
    "text_tweets_after = get_tweets(\"2020-05-01\",\"2020-05-31\")\n",
    "tokenized_words = text_cleaning(text_tweets_after)\n",
    "final_text_after = text_preprocesing(tokenized_words)\n",
    "emotion_text_after = text_emotions(final_text_after)\n",
    "print(emotion_text_after)\n",
    "fig, ax1 = plt.subplots()\n",
    "ax1.bar(emotion_text_after.keys(), emotion_text_after.values())\n",
    "fig.autofmt_xdate()\n",
    "plt.savefig('graph.png')\n",
    "plt.show()"
   ]
  },
  {
   "cell_type": "markdown",
   "metadata": {},
   "source": [
    "### compare peoples emotion before and after breakdown"
   ]
  },
  {
   "cell_type": "markdown",
   "metadata": {},
   "source": [
    "## 2. Update the emotion document  and Analyse the sentiments of people"
   ]
  },
  {
   "cell_type": "code",
   "execution_count": 22,
   "metadata": {},
   "outputs": [],
   "source": [
    "from nltk.sentiment.vader import SentimentIntensityAnalyzer\n",
    "sia = SentimentIntensityAnalyzer()"
   ]
  },
  {
   "cell_type": "code",
   "execution_count": 23,
   "metadata": {},
   "outputs": [],
   "source": [
    "def clean_text(text_tweets):\n",
    "    # reading text file\n",
    "    text = \"\"    \n",
    "    length = len(text_tweets)\n",
    "\n",
    "    for i in range(0, length):\n",
    "        text = text_tweets[i][0] + \" \" + text\n",
    "\n",
    "    # converting to lowercase\n",
    "    lower_case = text.lower()\n",
    "\n",
    "    # Removing punctuations\n",
    "    cleaned_text = lower_case.translate(str.maketrans('', '', string.punctuation))\n",
    "    \n",
    "    return cleaned_text"
   ]
  },
  {
   "cell_type": "code",
   "execution_count": 24,
   "metadata": {},
   "outputs": [],
   "source": [
    "def update_text_emotions (final_words):\n",
    "    # Get emotions text\n",
    "    new_text_list = []\n",
    "    with open('emotions.txt', 'r') as file:\n",
    "        for line in file:\n",
    "            clear_line = line.replace('\\n', '').replace(',', '').replace(\"'\", '').strip()\n",
    "            word, emotion = clear_line.split(':')\n",
    "        for new_word in final_words:\n",
    "            if new_word not in word:\n",
    "                new_text_list.append(new_word)\n",
    "\n",
    "    return (new_text_list)"
   ]
  },
  {
   "cell_type": "code",
   "execution_count": 25,
   "metadata": {},
   "outputs": [],
   "source": [
    "def sentiment_analyse(sentiment_text):\n",
    "    \n",
    "    score = SentimentIntensityAnalyzer().polarity_scores(sentiment_text)\n",
    "    \n",
    "    if score['neg'] > score['pos']:\n",
    "        print(\"\\n     ******Negative Sentiment*******\")\n",
    "        print (sia.polarity_scores(sentiment_text))\n",
    "        \n",
    "    elif score['neg'] < score['pos']:\n",
    "        print(\"\\n     ******Positive Sentiment*******\")\n",
    "        print (sia.polarity_scores(sentiment_text))\n",
    "    else:\n",
    "        print(\"Neutral Sentiment\")\n",
    "        print (sia.polarity_scores(sentiment_text))"
   ]
  },
  {
   "cell_type": "markdown",
   "metadata": {},
   "source": [
    "#### A. before outbreak"
   ]
  },
  {
   "cell_type": "code",
   "execution_count": 26,
   "metadata": {},
   "outputs": [
    {
     "name": "stdout",
     "output_type": "stream",
     "text": [
      "\n",
      "     ******Negative Sentiment*******\n",
      "{'neg': 0.094, 'neu': 0.834, 'pos': 0.072, 'compound': -0.9978}\n"
     ]
    }
   ],
   "source": [
    "clean_words = clean_text(text_tweets_before)\n",
    "sentiment_analyse(clean_words)"
   ]
  },
  {
   "cell_type": "markdown",
   "metadata": {},
   "source": [
    "#### B. after outbreak"
   ]
  },
  {
   "cell_type": "code",
   "execution_count": 28,
   "metadata": {},
   "outputs": [
    {
     "name": "stdout",
     "output_type": "stream",
     "text": [
      "Neutral Sentiment\n",
      "{'neg': 0.062, 'neu': 0.876, 'pos': 0.062, 'compound': 0.7042}\n"
     ]
    }
   ],
   "source": [
    "clean_words = clean_text(text_tweets_after)\n",
    "sentiment_analyse(clean_words)"
   ]
  },
  {
   "cell_type": "markdown",
   "metadata": {},
   "source": [
    "### 3. pick document (say A) and create BOW using a count vectorizer. Use another document (say B) and identify how many words of the B document are present in the BOW of A."
   ]
  },
  {
   "cell_type": "code",
   "execution_count": 29,
   "metadata": {},
   "outputs": [],
   "source": [
    "#common word in both document A and B\n",
    "common_word =[]\n",
    "for word in final_text_after:\n",
    "    if word in final_text_before:\n",
    "        if len(word)>3:\n",
    "            common_word.append(word)\n",
    "    "
   ]
  },
  {
   "cell_type": "code",
   "execution_count": 30,
   "metadata": {},
   "outputs": [
    {
     "data": {
      "text/plain": [
       "949"
      ]
     },
     "execution_count": 30,
     "metadata": {},
     "output_type": "execute_result"
    }
   ],
   "source": [
    "#no. of words of the B document are present in the BOW of A\n",
    "len(common_word)"
   ]
  }
 ],
 "metadata": {
  "kernelspec": {
   "display_name": "Python 3",
   "language": "python",
   "name": "python3"
  },
  "language_info": {
   "codemirror_mode": {
    "name": "ipython",
    "version": 3
   },
   "file_extension": ".py",
   "mimetype": "text/x-python",
   "name": "python",
   "nbconvert_exporter": "python",
   "pygments_lexer": "ipython3",
   "version": "3.7.3"
  }
 },
 "nbformat": 4,
 "nbformat_minor": 2
}
