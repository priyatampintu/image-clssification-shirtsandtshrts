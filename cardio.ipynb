{
 "cells": [
  {
   "cell_type": "code",
   "execution_count": 3,
   "metadata": {},
   "outputs": [],
   "source": [
    "import numpy as np \n",
    "import pandas as pd \n",
    "import seaborn as sns\n",
    "import matplotlib.pyplot as plt\n",
    "from sklearn.preprocessing import LabelEncoder\n",
    "\n",
    "#metrics\n",
    "from statistics import mean\n",
    "from sklearn.metrics import accuracy_score as score\n",
    "from sklearn.metrics import explained_variance_score as evs\n",
    "from sklearn.metrics import f1_score\n",
    "\n",
    "from time import time\n",
    "\n",
    "#Ignore Warning \n",
    "import warnings as wrn\n",
    "wrn.filterwarnings('ignore')"
   ]
  },
  {
   "cell_type": "code",
   "execution_count": 4,
   "metadata": {},
   "outputs": [],
   "source": [
    "import pandas as pd\n",
    "db = pd.read_csv('cardio_train.csv',sep=';')"
   ]
  },
  {
   "cell_type": "code",
   "execution_count": 5,
   "metadata": {},
   "outputs": [
    {
     "data": {
      "text/html": [
       "<div>\n",
       "<style scoped>\n",
       "    .dataframe tbody tr th:only-of-type {\n",
       "        vertical-align: middle;\n",
       "    }\n",
       "\n",
       "    .dataframe tbody tr th {\n",
       "        vertical-align: top;\n",
       "    }\n",
       "\n",
       "    .dataframe thead th {\n",
       "        text-align: right;\n",
       "    }\n",
       "</style>\n",
       "<table border=\"1\" class=\"dataframe\">\n",
       "  <thead>\n",
       "    <tr style=\"text-align: right;\">\n",
       "      <th></th>\n",
       "      <th>id</th>\n",
       "      <th>age</th>\n",
       "      <th>gender</th>\n",
       "      <th>height</th>\n",
       "      <th>weight</th>\n",
       "      <th>ap_hi</th>\n",
       "      <th>ap_lo</th>\n",
       "      <th>cholesterol</th>\n",
       "      <th>gluc</th>\n",
       "      <th>smoke</th>\n",
       "      <th>alco</th>\n",
       "      <th>active</th>\n",
       "      <th>cardio</th>\n",
       "    </tr>\n",
       "  </thead>\n",
       "  <tbody>\n",
       "    <tr>\n",
       "      <th>0</th>\n",
       "      <td>988</td>\n",
       "      <td>22469</td>\n",
       "      <td>1</td>\n",
       "      <td>155</td>\n",
       "      <td>69.0</td>\n",
       "      <td>130</td>\n",
       "      <td>80</td>\n",
       "      <td>2</td>\n",
       "      <td>2</td>\n",
       "      <td>0</td>\n",
       "      <td>0</td>\n",
       "      <td>1</td>\n",
       "      <td>0</td>\n",
       "    </tr>\n",
       "    <tr>\n",
       "      <th>1</th>\n",
       "      <td>989</td>\n",
       "      <td>14648</td>\n",
       "      <td>1</td>\n",
       "      <td>163</td>\n",
       "      <td>71.0</td>\n",
       "      <td>110</td>\n",
       "      <td>70</td>\n",
       "      <td>1</td>\n",
       "      <td>1</td>\n",
       "      <td>0</td>\n",
       "      <td>0</td>\n",
       "      <td>1</td>\n",
       "      <td>1</td>\n",
       "    </tr>\n",
       "    <tr>\n",
       "      <th>2</th>\n",
       "      <td>990</td>\n",
       "      <td>21901</td>\n",
       "      <td>1</td>\n",
       "      <td>165</td>\n",
       "      <td>70.0</td>\n",
       "      <td>120</td>\n",
       "      <td>80</td>\n",
       "      <td>1</td>\n",
       "      <td>1</td>\n",
       "      <td>0</td>\n",
       "      <td>0</td>\n",
       "      <td>1</td>\n",
       "      <td>0</td>\n",
       "    </tr>\n",
       "    <tr>\n",
       "      <th>3</th>\n",
       "      <td>991</td>\n",
       "      <td>14549</td>\n",
       "      <td>2</td>\n",
       "      <td>165</td>\n",
       "      <td>85.0</td>\n",
       "      <td>120</td>\n",
       "      <td>80</td>\n",
       "      <td>1</td>\n",
       "      <td>1</td>\n",
       "      <td>1</td>\n",
       "      <td>1</td>\n",
       "      <td>1</td>\n",
       "      <td>0</td>\n",
       "    </tr>\n",
       "    <tr>\n",
       "      <th>4</th>\n",
       "      <td>992</td>\n",
       "      <td>23393</td>\n",
       "      <td>1</td>\n",
       "      <td>155</td>\n",
       "      <td>62.0</td>\n",
       "      <td>120</td>\n",
       "      <td>80</td>\n",
       "      <td>1</td>\n",
       "      <td>1</td>\n",
       "      <td>0</td>\n",
       "      <td>0</td>\n",
       "      <td>1</td>\n",
       "      <td>0</td>\n",
       "    </tr>\n",
       "  </tbody>\n",
       "</table>\n",
       "</div>"
      ],
      "text/plain": [
       "    id    age  gender  height  weight  ap_hi  ap_lo  cholesterol  gluc  smoke  \\\n",
       "0  988  22469       1     155    69.0    130     80            2     2      0   \n",
       "1  989  14648       1     163    71.0    110     70            1     1      0   \n",
       "2  990  21901       1     165    70.0    120     80            1     1      0   \n",
       "3  991  14549       2     165    85.0    120     80            1     1      1   \n",
       "4  992  23393       1     155    62.0    120     80            1     1      0   \n",
       "\n",
       "   alco  active  cardio  \n",
       "0     0       1       0  \n",
       "1     0       1       1  \n",
       "2     0       1       0  \n",
       "3     1       1       0  \n",
       "4     0       1       0  "
      ]
     },
     "execution_count": 5,
     "metadata": {},
     "output_type": "execute_result"
    }
   ],
   "source": [
    "db.head()"
   ]
  },
  {
   "cell_type": "code",
   "execution_count": 6,
   "metadata": {},
   "outputs": [
    {
     "data": {
      "text/plain": [
       "(69301, 13)"
      ]
     },
     "execution_count": 6,
     "metadata": {},
     "output_type": "execute_result"
    }
   ],
   "source": [
    "db.shape"
   ]
  },
  {
   "cell_type": "code",
   "execution_count": 7,
   "metadata": {},
   "outputs": [
    {
     "data": {
      "text/plain": [
       "13"
      ]
     },
     "execution_count": 7,
     "metadata": {},
     "output_type": "execute_result"
    }
   ],
   "source": [
    "db.columns.value_counts().sum()"
   ]
  },
  {
   "cell_type": "code",
   "execution_count": 8,
   "metadata": {},
   "outputs": [
    {
     "data": {
      "text/plain": [
       "id             0\n",
       "age            0\n",
       "gender         0\n",
       "height         0\n",
       "weight         0\n",
       "ap_hi          0\n",
       "ap_lo          0\n",
       "cholesterol    0\n",
       "gluc           0\n",
       "smoke          0\n",
       "alco           0\n",
       "active         0\n",
       "cardio         0\n",
       "dtype: int64"
      ]
     },
     "execution_count": 8,
     "metadata": {},
     "output_type": "execute_result"
    }
   ],
   "source": [
    "db.isnull().sum()"
   ]
  },
  {
   "cell_type": "code",
   "execution_count": 9,
   "metadata": {},
   "outputs": [
    {
     "data": {
      "text/plain": [
       "id               int64\n",
       "age              int64\n",
       "gender           int64\n",
       "height           int64\n",
       "weight         float64\n",
       "ap_hi            int64\n",
       "ap_lo            int64\n",
       "cholesterol      int64\n",
       "gluc             int64\n",
       "smoke            int64\n",
       "alco             int64\n",
       "active           int64\n",
       "cardio           int64\n",
       "dtype: object"
      ]
     },
     "execution_count": 9,
     "metadata": {},
     "output_type": "execute_result"
    }
   ],
   "source": [
    "db.dtypes"
   ]
  },
  {
   "cell_type": "markdown",
   "metadata": {},
   "source": [
    "# Data Exploration"
   ]
  },
  {
   "cell_type": "code",
   "execution_count": 12,
   "metadata": {},
   "outputs": [],
   "source": [
    "db.drop('id',axis =1,inplace= True)"
   ]
  },
  {
   "cell_type": "code",
   "execution_count": 13,
   "metadata": {},
   "outputs": [],
   "source": [
    "db_numerics_only = db.select_dtypes(include=np.number)"
   ]
  },
  {
   "cell_type": "code",
   "execution_count": 14,
   "metadata": {},
   "outputs": [
    {
     "data": {
      "image/png": "[encoded data removed]",
      "text/plain": [
       "<Figure size 432x3456 with 12 Axes>"
      ]
     },
     "metadata": {
      "needs_background": "light"
     },
     "output_type": "display_data"
    }
   ],
   "source": [
    "n=len(db_numerics_only.columns)\n",
    "fig,ax = plt.subplots(n,1, figsize=(6,n*4))\n",
    "#fig, ax = plt.subplots(n,1,2,figsize=(20,n*5))\n",
    "for i in range(n):\n",
    "    plt.sca(ax[i])\n",
    "    col = db_numerics_only.columns[i]\n",
    "    sns.distplot(db_numerics_only[col].dropna(),kde=False)\n",
    "    plt.ylabel(col)"
   ]
  },
  {
   "cell_type": "code",
   "execution_count": 16,
   "metadata": {},
   "outputs": [
    {
     "data": {
      "text/plain": [
       "Text(0.5, 0, 'cube_root-ages')"
      ]
     },
     "execution_count": 16,
     "metadata": {},
     "output_type": "execute_result"
    },
    {
     "data": {
      "image/png": "[encoded data removed]",
      "text/plain": [
       "<Figure size 1440x360 with 2 Axes>"
      ]
     },
     "metadata": {
      "needs_background": "light"
     },
     "output_type": "display_data"
    }
   ],
   "source": [
    "fig, ax = plt.subplots(1,2,figsize=(20,5))\n",
    "sns.distplot(db.age, ax=ax[0], kde=False, color=\"blue\")\n",
    "sns.distplot(np.sqrt(db.age), ax=ax[1], bins=30, color=\"green\", kde=False)\n",
    "ax[1].set_xlabel(\"cube_root-ages\")"
   ]
  },
  {
   "cell_type": "code",
   "execution_count": 17,
   "metadata": {},
   "outputs": [],
   "source": [
    "# DO: Calculate number of students\n",
    "total_patients = db.shape[0]\n",
    "\n",
    "# DO: Calculate number of features\n",
    "all_features =db.columns.value_counts().sum()\n",
    "\n",
    "# DO: Calculate passing students\n",
    "# Data filtering using .loc[rows, columns]\n",
    "total_pass = db.loc[db.cardio == 1, 'cardio']\n",
    "n_pos = total_pass.shape[0]\n",
    "\n",
    "# TODO: Calculate failing students\n",
    "total_fail= db.loc[db.cardio == 0, 'cardio']\n",
    "n_neg= total_fail.shape[0]\n",
    "\n",
    "# TODO: Calculate graduation rate\n",
    "total = float(n_pos+ n_neg)\n",
    "positive_rate = float(n_pos * 100 / total)\n"
   ]
  },
  {
   "cell_type": "code",
   "execution_count": 18,
   "metadata": {},
   "outputs": [
    {
     "name": "stdout",
     "output_type": "stream",
     "text": [
      "Total number of students: 69301\n",
      "Number of features: 12\n",
      "Number of students who passed: 34622\n",
      "Number of students who failed: 34679\n",
      "Graduation rate of the class: 49.96%\n"
     ]
    }
   ],
   "source": [
    "# Print the results\n",
    "print (\"Total number of students: {}\".format(total_patients))\n",
    "print( \"Number of features: {}\".format(all_features))\n",
    "print (\"Number of students who passed: {}\".format(n_pos))\n",
    "print (\"Number of students who failed: {}\".format(n_neg))\n",
    "print( \"Graduation rate of the class: {:.2f}%\".format(positive_rate))"
   ]
  },
  {
   "cell_type": "code",
   "execution_count": 19,
   "metadata": {},
   "outputs": [
    {
     "data": {
      "text/plain": [
       "<matplotlib.axes._subplots.AxesSubplot at 0x2587ab644e0>"
      ]
     },
     "execution_count": 19,
     "metadata": {},
     "output_type": "execute_result"
    },
    {
     "data": {
      "text/plain": [
       "<Figure size 720x720 with 0 Axes>"
      ]
     },
     "metadata": {},
     "output_type": "display_data"
    },
    {
     "data": {
      "image/png": "[encoded data removed]",
      "text/plain": [
       "<Figure size 432x288 with 1 Axes>"
      ]
     },
     "metadata": {
      "needs_background": "light"
     },
     "output_type": "display_data"
    }
   ],
   "source": [
    "plt.figure(figsize=(10,10))\n",
    "dfq = pd.crosstab(db['gender'],db['cardio'])\n",
    "dfq.plot(kind='bar', stacked= True ,color =['green','red'],grid=False)"
   ]
  },
  {
   "cell_type": "code",
   "execution_count": 20,
   "metadata": {},
   "outputs": [
    {
     "data": {
      "text/plain": [
       "<matplotlib.axes._subplots.AxesSubplot at 0x2587df73048>"
      ]
     },
     "execution_count": 20,
     "metadata": {},
     "output_type": "execute_result"
    },
    {
     "data": {
      "text/plain": [
       "<Figure size 720x720 with 0 Axes>"
      ]
     },
     "metadata": {},
     "output_type": "display_data"
    },
    {
     "data": {
      "image/png": "[encoded data removed]",
      "text/plain": [
       "<Figure size 432x288 with 1 Axes>"
      ]
     },
     "metadata": {
      "needs_background": "light"
     },
     "output_type": "display_data"
    }
   ],
   "source": [
    "plt.figure(figsize=(10,10))\n",
    "dfq = pd.crosstab(db['smoke'],db['cardio'])\n",
    "dfq.plot(kind='bar', stacked= True ,color =['green','red'],grid=False)"
   ]
  },
  {
   "cell_type": "code",
   "execution_count": 21,
   "metadata": {
    "scrolled": true
   },
   "outputs": [
    {
     "data": {
      "text/plain": [
       "<matplotlib.axes._subplots.AxesSubplot at 0x2587dfa9358>"
      ]
     },
     "execution_count": 21,
     "metadata": {},
     "output_type": "execute_result"
    },
    {
     "data": {
      "text/plain": [
       "<Figure size 720x720 with 0 Axes>"
      ]
     },
     "metadata": {},
     "output_type": "display_data"
    },
    {
     "data": {
      "image/png": "[encoded data removed]",
      "text/plain": [
       "<Figure size 432x288 with 1 Axes>"
      ]
     },
     "metadata": {
      "needs_background": "light"
     },
     "output_type": "display_data"
    }
   ],
   "source": [
    "plt.figure(figsize=(10,10))\n",
    "dfq = pd.crosstab(db['alco'],db['cardio'])\n",
    "dfq.plot(kind='bar', stacked= True ,color = ['green','red'],grid=False)"
   ]
  },
  {
   "cell_type": "markdown",
   "metadata": {},
   "source": [
    "## Data Preprocessing"
   ]
  },
  {
   "cell_type": "markdown",
   "metadata": {},
   "source": [
    "### remove skewness from dataset by using feature transformation"
   ]
  },
  {
   "cell_type": "code",
   "execution_count": 22,
   "metadata": {},
   "outputs": [],
   "source": [
    "X=db.drop('cardio',axis=1)\n",
    "y=db['cardio']"
   ]
  },
  {
   "cell_type": "markdown",
   "metadata": {},
   "source": [
    "### standardization"
   ]
  },
  {
   "cell_type": "code",
   "execution_count": 23,
   "metadata": {},
   "outputs": [],
   "source": [
    "from sklearn.preprocessing import StandardScaler\n",
    "scaler = StandardScaler()\n",
    "scaled_data = scaler.fit_transform(X)"
   ]
  },
  {
   "cell_type": "markdown",
   "metadata": {},
   "source": [
    "### Training and Testing Data Split"
   ]
  },
  {
   "cell_type": "code",
   "execution_count": 28,
   "metadata": {},
   "outputs": [],
   "source": [
    "from sklearn.model_selection import train_test_split\n",
    "X_train, X_test, y_train, y_test = train_test_split(X, y, stratify = y, test_size=0.25, random_state=45)"
   ]
  },
  {
   "cell_type": "code",
   "execution_count": 29,
   "metadata": {},
   "outputs": [
    {
     "name": "stdout",
     "output_type": "stream",
     "text": [
      "Training set has 51975 samples.\n",
      "Testing set has 17326 samples.\n"
     ]
    }
   ],
   "source": [
    "# Show the results of the split\n",
    "print (\"Training set has {} samples.\".format(X_train.shape[0]))\n",
    "print (\"Testing set has {} samples.\".format(X_test.shape[0]))"
   ]
  },
  {
   "cell_type": "markdown",
   "metadata": {},
   "source": [
    "## Models evaluation"
   ]
  },
  {
   "cell_type": "code",
   "execution_count": 30,
   "metadata": {},
   "outputs": [],
   "source": [
    "def train_classifiers(clf, X_train, y_train):\n",
    "    ''' Fit a classifier to the training data. '''\n",
    "\n",
    "    # Start the clock, train the classifier, then stop the clock\n",
    "    start = time()\n",
    "    clf.fit(X_train, y_train)\n",
    "    end = time()\n",
    "\n",
    "    # Print the results\n",
    "    print (\"Trained model in {:.4f} seconds\".format(end - start))\n",
    "\n",
    "\n",
    "def predict_label(clf, features, target):\n",
    "    ''' Makes predictions using a fit classifier based on F1 score. '''\n",
    "\n",
    "    # Start the clock, make predictions, then stop the clock\n",
    "    start = time()\n",
    "    y_pred = clf.predict(features)\n",
    "    end = time()\n",
    "\n",
    "    # Print and return results\n",
    "    print (\"Made predictions in {:.4f} seconds\".format(end - start))\n",
    "    return f1_score(target.values, y_pred, pos_label= 1)\n",
    "\n",
    "\n",
    "def train_predict(clf, X_train, y_train, X_test, y_test):\n",
    "    ''' Train and predict using a classifer based on F1 score. '''\n",
    "\n",
    "    # Indicate the classifier and the training set size\n",
    "    print (\"\")\n",
    "    print (\"Training a {} using a training set size of {}. . .\".format(clf.__class__.__name__, len(X_train)))\n",
    "\n",
    "    # Train the classifier\n",
    "    train_classifiers(clf, X_train, y_train)\n",
    "\n",
    "    # Print the results of prediction for both training and testing\n",
    "    print (\"F1 score for training set: {:.4f}.\".format(predict_label(clf, X_train, y_train)))\n",
    "    print (\"F1 score for test set: {:.4f}.\".format(predict_label(clf, X_test, y_test)))"
   ]
  },
  {
   "cell_type": "markdown",
   "metadata": {},
   "source": [
    "## Implementation: Model Performance"
   ]
  },
  {
   "cell_type": "code",
   "execution_count": 31,
   "metadata": {
    "scrolled": true
   },
   "outputs": [
    {
     "name": "stdout",
     "output_type": "stream",
     "text": [
      "\n",
      "GaussianNB: \n",
      "\n",
      "\n",
      "Training a GaussianNB using a training set size of 100. . .\n",
      "Trained model in 0.0060 seconds\n",
      "Made predictions in 0.0050 seconds\n",
      "F1 score for training set: 0.6731.\n",
      "Made predictions in 0.0668 seconds\n",
      "F1 score for test set: 0.5386.\n",
      "\n",
      "Training a GaussianNB using a training set size of 200. . .\n",
      "Trained model in 0.0040 seconds\n",
      "Made predictions in 0.0020 seconds\n",
      "F1 score for training set: 0.4615.\n",
      "Made predictions in 0.0150 seconds\n",
      "F1 score for test set: 0.4664.\n",
      "\n",
      "Training a GaussianNB using a training set size of 300. . .\n",
      "Trained model in 0.0030 seconds\n",
      "Made predictions in 0.0020 seconds\n",
      "F1 score for training set: 0.4488.\n",
      "Made predictions in 0.0130 seconds\n",
      "F1 score for test set: 0.4903.\n",
      "\n",
      "LogisticRegression: \n",
      "\n",
      "\n",
      "Training a LogisticRegression using a training set size of 100. . .\n",
      "Trained model in 0.0758 seconds\n",
      "Made predictions in 0.0020 seconds\n",
      "F1 score for training set: 0.8029.\n",
      "Made predictions in 0.0100 seconds\n",
      "F1 score for test set: 0.7081.\n",
      "\n",
      "Training a LogisticRegression using a training set size of 200. . .\n",
      "Trained model in 0.0369 seconds\n",
      "Made predictions in 0.0020 seconds\n",
      "F1 score for training set: 0.7600.\n",
      "Made predictions in 0.0050 seconds\n",
      "F1 score for test set: 0.7207.\n",
      "\n",
      "Training a LogisticRegression using a training set size of 300. . .\n",
      "Trained model in 0.0279 seconds\n",
      "Made predictions in 0.0010 seconds\n",
      "F1 score for training set: 0.7547.\n",
      "Made predictions in 0.0030 seconds\n",
      "F1 score for test set: 0.7151.\n",
      "\n",
      "SVC: \n",
      "\n",
      "\n",
      "Training a SVC using a training set size of 100. . .\n",
      "Trained model in 0.0169 seconds\n",
      "Made predictions in 0.0030 seconds\n",
      "F1 score for training set: 0.7805.\n",
      "Made predictions in 0.0838 seconds\n",
      "F1 score for test set: 0.6663.\n",
      "\n",
      "Training a SVC using a training set size of 200. . .\n",
      "Trained model in 0.0040 seconds\n",
      "Made predictions in 0.0030 seconds\n",
      "F1 score for training set: 0.7539.\n",
      "Made predictions in 0.1466 seconds\n",
      "F1 score for test set: 0.6663.\n",
      "\n",
      "Training a SVC using a training set size of 300. . .\n",
      "Trained model in 0.0080 seconds\n",
      "Made predictions in 0.0060 seconds\n",
      "F1 score for training set: 0.7421.\n",
      "Made predictions in 0.1706 seconds\n",
      "F1 score for test set: 0.6663.\n",
      "\n",
      "DecisionTreeClassifier: \n",
      "\n",
      "\n",
      "Training a DecisionTreeClassifier using a training set size of 100. . .\n",
      "Trained model in 0.0499 seconds\n",
      "Made predictions in 0.0070 seconds\n",
      "F1 score for training set: 1.0000.\n",
      "Made predictions in 0.0170 seconds\n",
      "F1 score for test set: 0.6775.\n",
      "\n",
      "Training a DecisionTreeClassifier using a training set size of 200. . .\n",
      "Trained model in 0.0040 seconds\n",
      "Made predictions in 0.0020 seconds\n",
      "F1 score for training set: 1.0000.\n",
      "Made predictions in 0.0050 seconds\n",
      "F1 score for test set: 0.6526.\n",
      "\n",
      "Training a DecisionTreeClassifier using a training set size of 300. . .\n",
      "Trained model in 0.0030 seconds\n",
      "Made predictions in 0.0020 seconds\n",
      "F1 score for training set: 1.0000.\n",
      "Made predictions in 0.0050 seconds\n",
      "F1 score for test set: 0.6365.\n",
      "\n",
      "RandomForestClassifier: \n",
      "\n",
      "\n",
      "Training a RandomForestClassifier using a training set size of 100. . .\n",
      "Trained model in 1.9208 seconds\n",
      "Made predictions in 0.4229 seconds\n",
      "F1 score for training set: 1.0000.\n",
      "Made predictions in 1.0392 seconds\n",
      "F1 score for test set: 0.7242.\n",
      "\n",
      "Training a RandomForestClassifier using a training set size of 200. . .\n",
      "Trained model in 1.6526 seconds\n",
      "Made predictions in 0.3082 seconds\n",
      "F1 score for training set: 1.0000.\n",
      "Made predictions in 1.1310 seconds\n",
      "F1 score for test set: 0.7266.\n",
      "\n",
      "Training a RandomForestClassifier using a training set size of 300. . .\n",
      "Trained model in 1.7554 seconds\n",
      "Made predictions in 0.3092 seconds\n",
      "F1 score for training set: 1.0000.\n",
      "Made predictions in 1.2307 seconds\n",
      "F1 score for test set: 0.7256.\n"
     ]
    }
   ],
   "source": [
    "##Import the three supervised learning models from sklearn\n",
    "\n",
    "from sklearn.naive_bayes import GaussianNB\n",
    "from sklearn.linear_model import LogisticRegression\n",
    "from sklearn.svm import SVC\n",
    "from sklearn.ensemble import RandomForestClassifier\n",
    "from sklearn.tree import DecisionTreeClassifier\n",
    "\n",
    "# DO: Initialize the three models\n",
    "\n",
    "clf_1 = GaussianNB()\n",
    "clf_2 = LogisticRegression(random_state=42)\n",
    "clf_3 = SVC(random_state=42)\n",
    "clf_4 = DecisionTreeClassifier()\n",
    "clf_5 = RandomForestClassifier(n_estimators=1000, n_jobs=-1, )\n",
    "\n",
    "# DO: Set up the training set sizes\n",
    "\n",
    "X_train_100 = X_train.iloc[:100, :]\n",
    "y_train_100 = y_train.iloc[:100]\n",
    "\n",
    "X_train_200 = X_train.iloc[:200, :]\n",
    "y_train_200 = y_train.iloc[:200]\n",
    "\n",
    "X_train_300 = X_train.iloc[:300, :]\n",
    "y_train_300 = y_train.iloc[:300]\n",
    "\n",
    "# DO: Execute the 'train_predict' function for each classifier and each training set size\n",
    "\n",
    "for clf in [clf_1, clf_2, clf_3, clf_4, clf_5]:\n",
    "    print (\"\\n{}: \\n\".format(clf.__class__.__name__))\n",
    "    for n in [100, 200, 300]:\n",
    "        train_predict(clf, X_train[:n], y_train[:n], X_test, y_test)"
   ]
  },
  {
   "cell_type": "markdown",
   "metadata": {},
   "source": [
    "## find best parametrers using gridsearhCV and also check and remove overfitting and underfitting problem by using hyperparameter tuning"
   ]
  },
  {
   "cell_type": "code",
   "execution_count": 32,
   "metadata": {},
   "outputs": [],
   "source": [
    "def Snippet(model, X_test, y_test,X_train,y_train,parameters): \n",
    "    \n",
    "    print(format('How to find parameters using GridSearchCV  for Regression','*^82'))    \n",
    "    \n",
    "    import warnings\n",
    "    warnings.filterwarnings(\"ignore\")\n",
    "    \n",
    "    # load libraries\n",
    "    #from sklearn import datasets\n",
    "    #from sklearn.model_selection import train_test_split\n",
    "    from sklearn.metrics import classification_report\n",
    "    from sklearn.model_selection import GridSearchCV\n",
    "    from sklearn.ensemble import GradientBoostingRegressor\n",
    "    from sklearn.metrics.classification import accuracy_score\n",
    "    from sklearn.metrics.classification import confusion_matrix\n",
    "    #print(model,parameters)\n",
    "    \n",
    "\n",
    "    grid = GridSearchCV(estimator=model, param_grid = parameters, cv = 2,refit=True,scoring='f1', n_jobs=-1)\n",
    "    grid.fit(X_train, y_train)   \n",
    "    \n",
    "    y_pred = grid.best_estimator_.predict(X_test)\n",
    "    train_y_pred = grid.best_estimator_.predict(X_train)\n",
    "    test_acc = accuracy_score(y_test, y_pred)\n",
    "    train_acc = accuracy_score(y_train, train_y_pred)\n",
    "    test_conf = confusion_matrix (y_test, y_pred)\n",
    "    train_conf = confusion_matrix (y_train, train_y_pred)\n",
    "    \n",
    "    class_report = classification_report(y_test,y_pred)\n",
    "    y_pred_prob = grid.best_estimator_.predict_proba(X_test)[:,1]\n",
    "    plt.hist(y_pred_prob,bins=10)\n",
    "    plt.xlim(0,1)\n",
    "    plt.xlabel(\"Predicted Proababilities\")\n",
    "    plt.ylabel(\"Frequency\")\n",
    "   \n",
    "    # Results from Grid Search\n",
    "    print(\"\\n========================================================\")\n",
    "    print(\" Results from Grid Search \" )\n",
    "    print(\"========================================================\")    \n",
    "    \n",
    "    print(\"\\n The best estimator across ALL searched params:\\n\",\n",
    "          grid.best_estimator_)\n",
    "    \n",
    "    print(\"\\n The best score across ALL searched params:\\n\",\n",
    "          grid.best_score_)\n",
    "    \n",
    "    print(\"\\n The best parameters across ALL searched params:\\n\",\n",
    "          grid.best_params_)\n",
    "                                    \n",
    "    print(\"\\n The train_accuracy across ALL models:\\n\",\n",
    "          train_acc)\n",
    "                                    \n",
    "    print(\"\\n The test_accuracy across ALL models:\\n\",\n",
    "          test_acc) \n",
    "    print(\"\\n The train_confusion matrix across ALL models:\\n\",\n",
    "          train_conf) \n",
    "    print(\"\\n The test_confusion matrix across ALL models:\\n\",\n",
    "          test_conf) \n",
    "    \n",
    "    print(\"\\n classification report across ALL models:\\n\",\n",
    "          class_report) \n",
    "    \n",
    "    print (plt.show())\n",
    "    \n",
    "    print(\"\\n ========================================================\")"
   ]
  },
  {
   "cell_type": "code",
   "execution_count": null,
   "metadata": {},
   "outputs": [
    {
     "name": "stdout",
     "output_type": "stream",
     "text": [
      "************How to find parameters using GridSearchCV  for Regression*************\n",
      "\n",
      "========================================================\n",
      " Results from Grid Search \n",
      "========================================================\n",
      "\n",
      " The best estimator across ALL searched params:\n",
      " XGBClassifier(base_score=0.5, booster='gbtree', colsample_bylevel=1,\n",
      "              colsample_bynode=1, colsample_bytree=1, gamma=0,\n",
      "              learning_rate=0.01, max_delta_step=0, max_depth=4,\n",
      "              min_child_weight=1, missing=None, n_estimators=500, n_jobs=1,\n",
      "              nthread=None, objective='binary:logistic', random_state=0,\n",
      "              reg_alpha=0, reg_lambda=1, scale_pos_weight=1, seed=None,\n",
      "              silent=None, subsample=0.2, verbosity=1)\n",
      "\n",
      " The best score across ALL searched params:\n",
      " 0.7241253988122871\n",
      "\n",
      " The best parameters across ALL searched params:\n",
      " {'learning_rate': 0.01, 'max_depth': 4, 'n_estimators': 500, 'subsample': 0.2}\n",
      "\n",
      " The train_accuracy across ALL models:\n",
      " 0.7374891774891775\n",
      "\n",
      " The test_accuracy across ALL models:\n",
      " 0.7380814960175459\n",
      "\n",
      " The train_confusion matrix across ALL models:\n",
      " [[20228  5781]\n",
      " [ 7863 18103]]\n",
      "\n",
      " The test_confusion matrix across ALL models:\n",
      " [[6683 1987]\n",
      " [2551 6105]]\n",
      "\n",
      " classification report across ALL models:\n",
      "               precision    recall  f1-score   support\n",
      "\n",
      "           0       0.72      0.77      0.75      8670\n",
      "           1       0.75      0.71      0.73      8656\n",
      "\n",
      "    accuracy                           0.74     17326\n",
      "   macro avg       0.74      0.74      0.74     17326\n",
      "weighted avg       0.74      0.74      0.74     17326\n",
      "\n"
     ]
    },
    {
     "data": {
      "image/png": "[encoded data removed]",
      "text/plain": [
       "<Figure size 432x288 with 1 Axes>"
      ]
     },
     "metadata": {
      "needs_background": "light"
     },
     "output_type": "display_data"
    },
    {
     "name": "stdout",
     "output_type": "stream",
     "text": [
      "None\n",
      "\n",
      " ========================================================\n",
      "************How to find parameters using GridSearchCV  for Regression*************\n",
      "\n",
      "========================================================\n",
      " Results from Grid Search \n",
      "========================================================\n",
      "\n",
      " The best estimator across ALL searched params:\n",
      " GradientBoostingClassifier(ccp_alpha=0.0, criterion='friedman_mse', init=None,\n",
      "                           learning_rate=0.03, loss='deviance', max_depth=4,\n",
      "                           max_features=None, max_leaf_nodes=None,\n",
      "                           min_impurity_decrease=0.0, min_impurity_split=None,\n",
      "                           min_samples_leaf=1, min_samples_split=2,\n",
      "                           min_weight_fraction_leaf=0.0, n_estimators=100,\n",
      "                           n_iter_no_change=None, presort='deprecated',\n",
      "                           random_state=None, subsample=0.2, tol=0.0001,\n",
      "                           validation_fraction=0.1, verbose=0,\n",
      "                           warm_start=False)\n",
      "\n",
      " The best score across ALL searched params:\n",
      " 0.7245555684155096\n",
      "\n",
      " The best parameters across ALL searched params:\n",
      " {'learning_rate': 0.03, 'max_depth': 4, 'n_estimators': 100, 'subsample': 0.2}\n",
      "\n",
      " The train_accuracy across ALL models:\n",
      " 0.735988455988456\n",
      "\n",
      " The test_accuracy across ALL models:\n",
      " 0.7373888953018585\n",
      "\n",
      " The train_confusion matrix across ALL models:\n",
      " [[20119  5890]\n",
      " [ 7832 18134]]\n",
      "\n",
      " The test_confusion matrix across ALL models:\n",
      " [[6665 2005]\n",
      " [2545 6111]]\n",
      "\n",
      " classification report across ALL models:\n",
      "               precision    recall  f1-score   support\n",
      "\n",
      "           0       0.72      0.77      0.75      8670\n",
      "           1       0.75      0.71      0.73      8656\n",
      "\n",
      "    accuracy                           0.74     17326\n",
      "   macro avg       0.74      0.74      0.74     17326\n",
      "weighted avg       0.74      0.74      0.74     17326\n",
      "\n"
     ]
    },
    {
     "data": {
      "image/png": "[encoded data removed]",
      "text/plain": [
       "<Figure size 432x288 with 1 Axes>"
      ]
     },
     "metadata": {
      "needs_background": "light"
     },
     "output_type": "display_data"
    },
    {
     "name": "stdout",
     "output_type": "stream",
     "text": [
      "None\n",
      "\n",
      " ========================================================\n",
      "************How to find parameters using GridSearchCV  for Regression*************\n",
      "\n",
      "========================================================\n",
      " Results from Grid Search \n",
      "========================================================\n",
      "\n",
      " The best estimator across ALL searched params:\n",
      " RandomForestClassifier(bootstrap=True, ccp_alpha=0.0, class_weight=None,\n",
      "                       criterion='gini', max_depth=8, max_features='sqrt',\n",
      "                       max_leaf_nodes=None, max_samples=None,\n",
      "                       min_impurity_decrease=0.0, min_impurity_split=None,\n",
      "                       min_samples_leaf=1, min_samples_split=3,\n",
      "                       min_weight_fraction_leaf=0.0, n_estimators=100,\n",
      "                       n_jobs=None, oob_score=False, random_state=None,\n",
      "                       verbose=0, warm_start=False)\n",
      "\n",
      " The best score across ALL searched params:\n",
      " 0.7184972360571967\n",
      "\n",
      " The best parameters across ALL searched params:\n",
      " {'max_depth': 8, 'max_features': 'sqrt', 'min_samples_split': 3}\n",
      "\n",
      " The train_accuracy across ALL models:\n",
      " 0.7422029822029822\n",
      "\n",
      " The test_accuracy across ALL models:\n",
      " 0.736696294586171\n",
      "\n",
      " The train_confusion matrix across ALL models:\n",
      " [[20870  5139]\n",
      " [ 8260 17706]]\n",
      "\n",
      " The test_confusion matrix across ALL models:\n",
      " [[6862 1808]\n",
      " [2754 5902]]\n",
      "\n",
      " classification report across ALL models:\n",
      "               precision    recall  f1-score   support\n",
      "\n",
      "           0       0.71      0.79      0.75      8670\n",
      "           1       0.77      0.68      0.72      8656\n",
      "\n",
      "    accuracy                           0.74     17326\n",
      "   macro avg       0.74      0.74      0.74     17326\n",
      "weighted avg       0.74      0.74      0.74     17326\n",
      "\n"
     ]
    },
    {
     "data": {
      "image/png": "[encoded data removed]",
      "text/plain": [
       "<Figure size 432x288 with 1 Axes>"
      ]
     },
     "metadata": {
      "needs_background": "light"
     },
     "output_type": "display_data"
    },
    {
     "name": "stdout",
     "output_type": "stream",
     "text": [
      "None\n",
      "\n",
      " ========================================================\n",
      "************How to find parameters using GridSearchCV  for Regression*************\n"
     ]
    }
   ],
   "source": [
    "from xgboost import XGBClassifier\n",
    "from sklearn.ensemble import RandomForestClassifier\n",
    "from sklearn.ensemble import GradientBoostingClassifier\n",
    "from sklearn.svm import SVC\n",
    "alg = [XGBClassifier(),GradientBoostingClassifier(), RandomForestClassifier(),SVC(probability=True)]\n",
    "parameters = [{'learning_rate': [0.01,0.02,0.03],\n",
    "                  'subsample'    : [0.9, 0.5, 0.2],\n",
    "                  'n_estimators' : [100,500,1000],\n",
    "                  'max_depth'    : [4,6,8]},\n",
    "              \n",
    "              {'learning_rate': [0.01,0.02,0.03],\n",
    "                  'subsample'    : [0.9, 0.5, 0.2],\n",
    "                  'n_estimators' : [100,500,1000],\n",
    "                  'max_depth'    : [4,6,8]},\n",
    "              \n",
    "              { 'max_depth'    : [4,6,8],\n",
    "                  'min_samples_split' : [2,3,4],\n",
    "                  'max_features'    : ['auto','sqrt','log2']},\n",
    "              \n",
    "              {'kernel':['linear', 'rbf'], \n",
    "                'C':[1, 10]}\n",
    "             ]\n",
    "\n",
    "\n",
    "for i in range(len(alg)):\n",
    "    #print(alg[i])\n",
    "                              \n",
    "    Snippet(alg[i] ,X_test, y_test,X_train,y_train,parameters[i])"
   ]
  },
  {
   "cell_type": "markdown",
   "metadata": {},
   "source": [
    "### bar plot of features importances"
   ]
  },
  {
   "cell_type": "code",
   "execution_count": null,
   "metadata": {},
   "outputs": [],
   "source": [
    "model = GradientBoostingClassifier()\n",
    "model.fit(X_train,y_train)\n",
    "feat_importances = pd.Series(model.feature_importances_, index=X.columns)\n",
    "feat_importances = feat_importances.nlargest(15)\n",
    "feat_importances.plot(kind='barh')"
   ]
  }
 ],
 "metadata": {
  "kernelspec": {
   "display_name": "Python 3",
   "language": "python",
   "name": "python3"
  },
  "language_info": {
   "codemirror_mode": {
    "name": "ipython",
    "version": 3
   },
   "file_extension": ".py",
   "mimetype": "text/x-python",
   "name": "python",
   "nbconvert_exporter": "python",
   "pygments_lexer": "ipython3",
   "version": "3.7.3"
  }
 },
 "nbformat": 4,
 "nbformat_minor": 2
}
